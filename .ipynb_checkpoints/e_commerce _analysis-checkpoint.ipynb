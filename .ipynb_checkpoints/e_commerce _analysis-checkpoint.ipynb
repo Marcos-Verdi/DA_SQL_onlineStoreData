{
 "cells": [
  {
   "cell_type": "code",
   "execution_count": 1,
   "id": "f55462c1",
   "metadata": {},
   "outputs": [],
   "source": [
    "import pandas as pd\n",
    "import pymysql"
   ]
  },
  {
   "cell_type": "code",
   "execution_count": 2,
   "id": "954da730",
   "metadata": {},
   "outputs": [],
   "source": [
    "db_name = \"online_store_data\"\n",
    "db_host = \"localhost\"\n",
    "db_username = \"root\"\n",
    "db_password = \"Garracrema25\""
   ]
  },
  {
   "cell_type": "code",
   "execution_count": 3,
   "id": "eed67161",
   "metadata": {},
   "outputs": [],
   "source": [
    "try:\n",
    "    conn = pymysql.connect(host=db_host,\n",
    "                            port=int(3306),\n",
    "                            user='root',\n",
    "                            passwd=db_password,\n",
    "                            db=db_name)\n",
    "except e:\n",
    "    print(e)"
   ]
  },
  {
   "cell_type": "code",
   "execution_count": 4,
   "id": "0432a706",
   "metadata": {},
   "outputs": [
    {
     "name": "stdout",
     "output_type": "stream",
     "text": [
      "Successful Connection!\n"
     ]
    }
   ],
   "source": [
    "if conn:\n",
    "    print(\"Successful Connection!\")\n",
    "else:\n",
    "    print(\"Connection Failed\")"
   ]
  },
  {
   "cell_type": "code",
   "execution_count": 5,
   "id": "5fea048f",
   "metadata": {},
   "outputs": [
    {
     "data": {
      "text/html": [
       "<div>\n",
       "<style scoped>\n",
       "    .dataframe tbody tr th:only-of-type {\n",
       "        vertical-align: middle;\n",
       "    }\n",
       "\n",
       "    .dataframe tbody tr th {\n",
       "        vertical-align: top;\n",
       "    }\n",
       "\n",
       "    .dataframe thead th {\n",
       "        text-align: right;\n",
       "    }\n",
       "</style>\n",
       "<table border=\"1\" class=\"dataframe\">\n",
       "  <thead>\n",
       "    <tr style=\"text-align: right;\">\n",
       "      <th></th>\n",
       "      <th>CustomerID</th>\n",
       "      <th>Churn</th>\n",
       "      <th>Tenure</th>\n",
       "      <th>PreferredLoginDevice</th>\n",
       "      <th>CityTier</th>\n",
       "      <th>WarehouseToHome</th>\n",
       "      <th>PreferredPaymentMode</th>\n",
       "      <th>Gender</th>\n",
       "      <th>HourSpendOnApp</th>\n",
       "      <th>NumberOfDeviceRegistered</th>\n",
       "      <th>PreferedOrderCat</th>\n",
       "      <th>SatisfactionScore</th>\n",
       "      <th>MaritalStatus</th>\n",
       "      <th>NumberOfAddress</th>\n",
       "      <th>Complain</th>\n",
       "      <th>OrderAmountHikeFromlastYear</th>\n",
       "      <th>CouponUsed</th>\n",
       "      <th>OrderCount</th>\n",
       "      <th>DaySinceLastOrder</th>\n",
       "      <th>CashbackAmount</th>\n",
       "    </tr>\n",
       "  </thead>\n",
       "  <tbody>\n",
       "    <tr>\n",
       "      <th>0</th>\n",
       "      <td>50001</td>\n",
       "      <td>1</td>\n",
       "      <td>4</td>\n",
       "      <td>Mobile Phone</td>\n",
       "      <td>3</td>\n",
       "      <td>6</td>\n",
       "      <td>Debit Card</td>\n",
       "      <td>Female</td>\n",
       "      <td>3</td>\n",
       "      <td>3</td>\n",
       "      <td>Laptop &amp; Accessory</td>\n",
       "      <td>2</td>\n",
       "      <td>Single</td>\n",
       "      <td>9</td>\n",
       "      <td>1</td>\n",
       "      <td>11</td>\n",
       "      <td>1</td>\n",
       "      <td>1</td>\n",
       "      <td>5</td>\n",
       "      <td>160</td>\n",
       "    </tr>\n",
       "    <tr>\n",
       "      <th>1</th>\n",
       "      <td>50002</td>\n",
       "      <td>1</td>\n",
       "      <td></td>\n",
       "      <td>Phone</td>\n",
       "      <td>1</td>\n",
       "      <td>8</td>\n",
       "      <td>UPI</td>\n",
       "      <td>Male</td>\n",
       "      <td>3</td>\n",
       "      <td>4</td>\n",
       "      <td>Mobile</td>\n",
       "      <td>3</td>\n",
       "      <td>Single</td>\n",
       "      <td>7</td>\n",
       "      <td>1</td>\n",
       "      <td>15</td>\n",
       "      <td>0</td>\n",
       "      <td>1</td>\n",
       "      <td>0</td>\n",
       "      <td>121</td>\n",
       "    </tr>\n",
       "    <tr>\n",
       "      <th>2</th>\n",
       "      <td>50003</td>\n",
       "      <td>1</td>\n",
       "      <td></td>\n",
       "      <td>Phone</td>\n",
       "      <td>1</td>\n",
       "      <td>30</td>\n",
       "      <td>Debit Card</td>\n",
       "      <td>Male</td>\n",
       "      <td>2</td>\n",
       "      <td>4</td>\n",
       "      <td>Mobile</td>\n",
       "      <td>3</td>\n",
       "      <td>Single</td>\n",
       "      <td>6</td>\n",
       "      <td>1</td>\n",
       "      <td>14</td>\n",
       "      <td>0</td>\n",
       "      <td>1</td>\n",
       "      <td>3</td>\n",
       "      <td>120</td>\n",
       "    </tr>\n",
       "    <tr>\n",
       "      <th>3</th>\n",
       "      <td>50004</td>\n",
       "      <td>1</td>\n",
       "      <td>0</td>\n",
       "      <td>Phone</td>\n",
       "      <td>3</td>\n",
       "      <td>15</td>\n",
       "      <td>Debit Card</td>\n",
       "      <td>Male</td>\n",
       "      <td>2</td>\n",
       "      <td>4</td>\n",
       "      <td>Laptop &amp; Accessory</td>\n",
       "      <td>5</td>\n",
       "      <td>Single</td>\n",
       "      <td>8</td>\n",
       "      <td>0</td>\n",
       "      <td>23</td>\n",
       "      <td>0</td>\n",
       "      <td>1</td>\n",
       "      <td>3</td>\n",
       "      <td>134</td>\n",
       "    </tr>\n",
       "    <tr>\n",
       "      <th>4</th>\n",
       "      <td>50005</td>\n",
       "      <td>1</td>\n",
       "      <td>0</td>\n",
       "      <td>Phone</td>\n",
       "      <td>1</td>\n",
       "      <td>12</td>\n",
       "      <td>CC</td>\n",
       "      <td>Male</td>\n",
       "      <td></td>\n",
       "      <td>3</td>\n",
       "      <td>Mobile</td>\n",
       "      <td>5</td>\n",
       "      <td>Single</td>\n",
       "      <td>3</td>\n",
       "      <td>0</td>\n",
       "      <td>11</td>\n",
       "      <td>1</td>\n",
       "      <td>1</td>\n",
       "      <td>3</td>\n",
       "      <td>130</td>\n",
       "    </tr>\n",
       "    <tr>\n",
       "      <th>5</th>\n",
       "      <td>50006</td>\n",
       "      <td>1</td>\n",
       "      <td>0</td>\n",
       "      <td>Computer</td>\n",
       "      <td>1</td>\n",
       "      <td>22</td>\n",
       "      <td>Debit Card</td>\n",
       "      <td>Female</td>\n",
       "      <td>3</td>\n",
       "      <td>5</td>\n",
       "      <td>Mobile Phone</td>\n",
       "      <td>5</td>\n",
       "      <td>Single</td>\n",
       "      <td>2</td>\n",
       "      <td>1</td>\n",
       "      <td>22</td>\n",
       "      <td>4</td>\n",
       "      <td>6</td>\n",
       "      <td>7</td>\n",
       "      <td>139</td>\n",
       "    </tr>\n",
       "    <tr>\n",
       "      <th>6</th>\n",
       "      <td>50007</td>\n",
       "      <td>1</td>\n",
       "      <td></td>\n",
       "      <td>Phone</td>\n",
       "      <td>3</td>\n",
       "      <td>11</td>\n",
       "      <td>Cash on Delivery</td>\n",
       "      <td>Male</td>\n",
       "      <td>2</td>\n",
       "      <td>3</td>\n",
       "      <td>Laptop &amp; Accessory</td>\n",
       "      <td>2</td>\n",
       "      <td>Divorced</td>\n",
       "      <td>4</td>\n",
       "      <td>0</td>\n",
       "      <td>14</td>\n",
       "      <td>0</td>\n",
       "      <td>1</td>\n",
       "      <td>0</td>\n",
       "      <td>121</td>\n",
       "    </tr>\n",
       "    <tr>\n",
       "      <th>7</th>\n",
       "      <td>50008</td>\n",
       "      <td>1</td>\n",
       "      <td></td>\n",
       "      <td>Phone</td>\n",
       "      <td>1</td>\n",
       "      <td>6</td>\n",
       "      <td>CC</td>\n",
       "      <td>Male</td>\n",
       "      <td>3</td>\n",
       "      <td>3</td>\n",
       "      <td>Mobile</td>\n",
       "      <td>2</td>\n",
       "      <td>Divorced</td>\n",
       "      <td>3</td>\n",
       "      <td>1</td>\n",
       "      <td>16</td>\n",
       "      <td>2</td>\n",
       "      <td>2</td>\n",
       "      <td>0</td>\n",
       "      <td>123</td>\n",
       "    </tr>\n",
       "    <tr>\n",
       "      <th>8</th>\n",
       "      <td>50009</td>\n",
       "      <td>1</td>\n",
       "      <td>13</td>\n",
       "      <td>Phone</td>\n",
       "      <td>3</td>\n",
       "      <td>9</td>\n",
       "      <td>E wallet</td>\n",
       "      <td>Male</td>\n",
       "      <td></td>\n",
       "      <td>4</td>\n",
       "      <td>Mobile</td>\n",
       "      <td>3</td>\n",
       "      <td>Divorced</td>\n",
       "      <td>2</td>\n",
       "      <td>1</td>\n",
       "      <td>14</td>\n",
       "      <td>0</td>\n",
       "      <td>1</td>\n",
       "      <td>2</td>\n",
       "      <td>127</td>\n",
       "    </tr>\n",
       "    <tr>\n",
       "      <th>9</th>\n",
       "      <td>50010</td>\n",
       "      <td>1</td>\n",
       "      <td></td>\n",
       "      <td>Phone</td>\n",
       "      <td>1</td>\n",
       "      <td>31</td>\n",
       "      <td>Debit Card</td>\n",
       "      <td>Male</td>\n",
       "      <td>2</td>\n",
       "      <td>5</td>\n",
       "      <td>Mobile</td>\n",
       "      <td>3</td>\n",
       "      <td>Single</td>\n",
       "      <td>2</td>\n",
       "      <td>0</td>\n",
       "      <td>12</td>\n",
       "      <td>1</td>\n",
       "      <td>1</td>\n",
       "      <td>1</td>\n",
       "      <td>123</td>\n",
       "    </tr>\n",
       "  </tbody>\n",
       "</table>\n",
       "</div>"
      ],
      "text/plain": [
       "   CustomerID  Churn Tenure PreferredLoginDevice  CityTier  WarehouseToHome  \\\n",
       "0       50001      1      4         Mobile Phone         3                6   \n",
       "1       50002      1                       Phone         1                8   \n",
       "2       50003      1                       Phone         1               30   \n",
       "3       50004      1      0                Phone         3               15   \n",
       "4       50005      1      0                Phone         1               12   \n",
       "5       50006      1      0             Computer         1               22   \n",
       "6       50007      1                       Phone         3               11   \n",
       "7       50008      1                       Phone         1                6   \n",
       "8       50009      1     13                Phone         3                9   \n",
       "9       50010      1                       Phone         1               31   \n",
       "\n",
       "  PreferredPaymentMode  Gender HourSpendOnApp  NumberOfDeviceRegistered  \\\n",
       "0           Debit Card  Female              3                         3   \n",
       "1                  UPI    Male              3                         4   \n",
       "2           Debit Card    Male              2                         4   \n",
       "3           Debit Card    Male              2                         4   \n",
       "4                   CC    Male                                        3   \n",
       "5           Debit Card  Female              3                         5   \n",
       "6     Cash on Delivery    Male              2                         3   \n",
       "7                   CC    Male              3                         3   \n",
       "8             E wallet    Male                                        4   \n",
       "9           Debit Card    Male              2                         5   \n",
       "\n",
       "     PreferedOrderCat  SatisfactionScore MaritalStatus  NumberOfAddress  \\\n",
       "0  Laptop & Accessory                  2        Single                9   \n",
       "1              Mobile                  3        Single                7   \n",
       "2              Mobile                  3        Single                6   \n",
       "3  Laptop & Accessory                  5        Single                8   \n",
       "4              Mobile                  5        Single                3   \n",
       "5        Mobile Phone                  5        Single                2   \n",
       "6  Laptop & Accessory                  2      Divorced                4   \n",
       "7              Mobile                  2      Divorced                3   \n",
       "8              Mobile                  3      Divorced                2   \n",
       "9              Mobile                  3        Single                2   \n",
       "\n",
       "   Complain  OrderAmountHikeFromlastYear  CouponUsed  OrderCount  \\\n",
       "0         1                           11           1           1   \n",
       "1         1                           15           0           1   \n",
       "2         1                           14           0           1   \n",
       "3         0                           23           0           1   \n",
       "4         0                           11           1           1   \n",
       "5         1                           22           4           6   \n",
       "6         0                           14           0           1   \n",
       "7         1                           16           2           2   \n",
       "8         1                           14           0           1   \n",
       "9         0                           12           1           1   \n",
       "\n",
       "   DaySinceLastOrder  CashbackAmount  \n",
       "0                  5             160  \n",
       "1                  0             121  \n",
       "2                  3             120  \n",
       "3                  3             134  \n",
       "4                  3             130  \n",
       "5                  7             139  \n",
       "6                  0             121  \n",
       "7                  0             123  \n",
       "8                  2             127  \n",
       "9                  1             123  "
      ]
     },
     "execution_count": 5,
     "metadata": {},
     "output_type": "execute_result"
    }
   ],
   "source": [
    "full_table = pd.read_sql_query(\"\"\"SELECT * FROM e_commerce LIMIT 10\"\"\", conn)\n",
    "full_table"
   ]
  },
  {
   "cell_type": "markdown",
   "id": "ff64af04",
   "metadata": {},
   "source": [
    "number of customers, how many churned?, tenure range, distribution of login device, how many city tier, count of city tier, range of warehouse distance, how many payment methods?, count of payment methods, range of hours spent on app & distribution, devices registered count, order categories & count, satisfaction score distribution, address ranges & count, complaints count, count of amount hikes & range, coupons used count, order count characteristics what dopes it tell us?, cashback amount range & categories?  "
   ]
  },
  {
   "cell_type": "code",
   "execution_count": 6,
   "id": "3336f958",
   "metadata": {},
   "outputs": [
    {
     "data": {
      "text/html": [
       "<style  type=\"text/css\" >\n",
       "</style><table id=\"T_ab586160_5d14_11ed_832a_8f2dfe48add8\" ><thead>    <tr>        <th class=\"col_heading level0 col0\" >number_of_customers</th>    </tr></thead><tbody>\n",
       "                <tr>\n",
       "                                <td id=\"T_ab586160_5d14_11ed_832a_8f2dfe48add8row0_col0\" class=\"data row0 col0\" >4293</td>\n",
       "            </tr>\n",
       "    </tbody></table>"
      ],
      "text/plain": [
       "<pandas.io.formats.style.Styler at 0x8991628>"
      ]
     },
     "execution_count": 6,
     "metadata": {},
     "output_type": "execute_result"
    }
   ],
   "source": [
    "number_of_customers = pd.read_sql_query(\"\"\"\n",
    "select\n",
    "count(distinct CustomerID) as number_of_customers\n",
    "from e_commerce\n",
    "\"\"\", conn)\n",
    "\n",
    "number_of_customers.style.hide_index()"
   ]
  },
  {
   "cell_type": "code",
   "execution_count": 7,
   "id": "94c97f47",
   "metadata": {},
   "outputs": [
    {
     "data": {
      "text/html": [
       "<style  type=\"text/css\" >\n",
       "</style><table id=\"T_ab5e51b1_5d14_11ed_aa3e_8f2dfe48add8\" ><thead>    <tr>        <th class=\"col_heading level0 col0\" >churn_category</th>        <th class=\"col_heading level0 col1\" >proportion</th>    </tr></thead><tbody>\n",
       "                <tr>\n",
       "                                <td id=\"T_ab5e51b1_5d14_11ed_aa3e_8f2dfe48add8row0_col0\" class=\"data row0 col0\" >1</td>\n",
       "                        <td id=\"T_ab5e51b1_5d14_11ed_aa3e_8f2dfe48add8row0_col1\" class=\"data row0 col1\" >17.936200</td>\n",
       "            </tr>\n",
       "            <tr>\n",
       "                                <td id=\"T_ab5e51b1_5d14_11ed_aa3e_8f2dfe48add8row1_col0\" class=\"data row1 col0\" >0</td>\n",
       "                        <td id=\"T_ab5e51b1_5d14_11ed_aa3e_8f2dfe48add8row1_col1\" class=\"data row1 col1\" >82.063800</td>\n",
       "            </tr>\n",
       "    </tbody></table>"
      ],
      "text/plain": [
       "<pandas.io.formats.style.Styler at 0x917f6b8>"
      ]
     },
     "execution_count": 7,
     "metadata": {},
     "output_type": "execute_result"
    }
   ],
   "source": [
    "count_customers_churned = pd.read_sql_query(\"\"\"\n",
    "select\n",
    "Churn as churn_category, (count(*)/4293)*100 as proportion\n",
    "from e_commerce\n",
    "group by churn_category\n",
    "\"\"\", conn)\n",
    "\n",
    "count_customers_churned.style.hide_index()"
   ]
  },
  {
   "cell_type": "code",
   "execution_count": 8,
   "id": "a13ee13b",
   "metadata": {},
   "outputs": [
    {
     "data": {
      "text/html": [
       "<style  type=\"text/css\" >\n",
       "</style><table id=\"T_ab636803_5d14_11ed_93a6_8f2dfe48add8\" ><thead>    <tr>        <th class=\"col_heading level0 col0\" >shortest_tenure</th>        <th class=\"col_heading level0 col1\" >longest_tenure</th>    </tr></thead><tbody>\n",
       "                <tr>\n",
       "                                <td id=\"T_ab636803_5d14_11ed_93a6_8f2dfe48add8row0_col0\" class=\"data row0 col0\" >0</td>\n",
       "                        <td id=\"T_ab636803_5d14_11ed_93a6_8f2dfe48add8row0_col1\" class=\"data row0 col1\" >9</td>\n",
       "            </tr>\n",
       "    </tbody></table>"
      ],
      "text/plain": [
       "<pandas.io.formats.style.Styler at 0x917f7f0>"
      ]
     },
     "execution_count": 8,
     "metadata": {},
     "output_type": "execute_result"
    }
   ],
   "source": [
    "tenure_range = pd.read_sql_query(\"\"\"\n",
    "select\n",
    "min(Tenure) as shortest_tenure, max(Tenure) as longest_tenure\n",
    "from e_commerce\n",
    "where Tenure != \"\"\n",
    "\"\"\", conn)\n",
    "\n",
    "tenure_range.style.hide_index()"
   ]
  },
  {
   "cell_type": "code",
   "execution_count": 9,
   "id": "d9dc9d89",
   "metadata": {},
   "outputs": [
    {
     "data": {
      "text/html": [
       "<style  type=\"text/css\" >\n",
       "</style><table id=\"T_ab6979b8_5d14_11ed_9100_8f2dfe48add8\" ><thead>    <tr>        <th class=\"col_heading level0 col0\" >device</th>        <th class=\"col_heading level0 col1\" >proportion</th>    </tr></thead><tbody>\n",
       "                <tr>\n",
       "                                <td id=\"T_ab6979b8_5d14_11ed_9100_8f2dfe48add8row0_col0\" class=\"data row0 col0\" >Mobile Phone</td>\n",
       "                        <td id=\"T_ab6979b8_5d14_11ed_9100_8f2dfe48add8row0_col1\" class=\"data row0 col1\" >45.865400</td>\n",
       "            </tr>\n",
       "            <tr>\n",
       "                                <td id=\"T_ab6979b8_5d14_11ed_9100_8f2dfe48add8row1_col0\" class=\"data row1 col0\" >Computer</td>\n",
       "                        <td id=\"T_ab6979b8_5d14_11ed_9100_8f2dfe48add8row1_col1\" class=\"data row1 col1\" >29.536500</td>\n",
       "            </tr>\n",
       "            <tr>\n",
       "                                <td id=\"T_ab6979b8_5d14_11ed_9100_8f2dfe48add8row2_col0\" class=\"data row2 col0\" >Phone</td>\n",
       "                        <td id=\"T_ab6979b8_5d14_11ed_9100_8f2dfe48add8row2_col1\" class=\"data row2 col1\" >24.598200</td>\n",
       "            </tr>\n",
       "    </tbody></table>"
      ],
      "text/plain": [
       "<pandas.io.formats.style.Styler at 0x917fd90>"
      ]
     },
     "execution_count": 9,
     "metadata": {},
     "output_type": "execute_result"
    }
   ],
   "source": [
    "login_device_distribution = pd.read_sql_query(\"\"\"\n",
    "select\n",
    "PreferredLoginDevice as device, (count(*)/4293)*100 as proportion\n",
    "from e_commerce\n",
    "group by device\n",
    "order by proportion desc\n",
    "\"\"\", conn)\n",
    "\n",
    "login_device_distribution.style.hide_index()"
   ]
  },
  {
   "cell_type": "code",
   "execution_count": 10,
   "id": "198e15cf",
   "metadata": {},
   "outputs": [
    {
     "data": {
      "text/html": [
       "<style  type=\"text/css\" >\n",
       "</style><table id=\"T_ab6cbf1e_5d14_11ed_95f9_8f2dfe48add8\" ><thead>    <tr>        <th class=\"col_heading level0 col0\" >number_of_tiers</th>    </tr></thead><tbody>\n",
       "                <tr>\n",
       "                                <td id=\"T_ab6cbf1e_5d14_11ed_95f9_8f2dfe48add8row0_col0\" class=\"data row0 col0\" >3</td>\n",
       "            </tr>\n",
       "    </tbody></table>"
      ],
      "text/plain": [
       "<pandas.io.formats.style.Styler at 0x917faf0>"
      ]
     },
     "execution_count": 10,
     "metadata": {},
     "output_type": "execute_result"
    }
   ],
   "source": [
    "city_tiers = pd.read_sql_query(\"\"\"\n",
    "select\n",
    "count(distinct CityTier) as number_of_tiers\n",
    "from e_commerce\n",
    "\"\"\", conn)\n",
    "\n",
    "city_tiers.style.hide_index()"
   ]
  },
  {
   "cell_type": "code",
   "execution_count": 11,
   "id": "afdc80b8",
   "metadata": {},
   "outputs": [
    {
     "data": {
      "text/html": [
       "<style  type=\"text/css\" >\n",
       "</style><table id=\"T_ab706f11_5d14_11ed_9e61_8f2dfe48add8\" ><thead>    <tr>        <th class=\"col_heading level0 col0\" >tiers</th>        <th class=\"col_heading level0 col1\" >proportion</th>    </tr></thead><tbody>\n",
       "                <tr>\n",
       "                                <td id=\"T_ab706f11_5d14_11ed_9e61_8f2dfe48add8row0_col0\" class=\"data row0 col0\" >1</td>\n",
       "                        <td id=\"T_ab706f11_5d14_11ed_9e61_8f2dfe48add8row0_col1\" class=\"data row0 col1\" >64.081100</td>\n",
       "            </tr>\n",
       "            <tr>\n",
       "                                <td id=\"T_ab706f11_5d14_11ed_9e61_8f2dfe48add8row1_col0\" class=\"data row1 col0\" >3</td>\n",
       "                        <td id=\"T_ab706f11_5d14_11ed_9e61_8f2dfe48add8row1_col1\" class=\"data row1 col1\" >31.632900</td>\n",
       "            </tr>\n",
       "            <tr>\n",
       "                                <td id=\"T_ab706f11_5d14_11ed_9e61_8f2dfe48add8row2_col0\" class=\"data row2 col0\" >2</td>\n",
       "                        <td id=\"T_ab706f11_5d14_11ed_9e61_8f2dfe48add8row2_col1\" class=\"data row2 col1\" >4.286000</td>\n",
       "            </tr>\n",
       "    </tbody></table>"
      ],
      "text/plain": [
       "<pandas.io.formats.style.Styler at 0x91971c0>"
      ]
     },
     "execution_count": 11,
     "metadata": {},
     "output_type": "execute_result"
    }
   ],
   "source": [
    "proportions_per_tier = pd.read_sql_query(\"\"\"\n",
    "select\n",
    "CityTier as tiers, (count(*)/4293)*100 as proportion\n",
    "from e_commerce\n",
    "group by tiers\n",
    "order by proportion desc\n",
    "\"\"\", conn)\n",
    "\n",
    "proportions_per_tier.style.hide_index()"
   ]
  },
  {
   "cell_type": "code",
   "execution_count": 12,
   "id": "06a95870",
   "metadata": {},
   "outputs": [
    {
     "data": {
      "text/html": [
       "<style  type=\"text/css\" >\n",
       "</style><table id=\"T_ab748727_5d14_11ed_a751_8f2dfe48add8\" ><thead>    <tr>        <th class=\"col_heading level0 col0\" >minimum_distance</th>        <th class=\"col_heading level0 col1\" >maximum_distance</th>    </tr></thead><tbody>\n",
       "                <tr>\n",
       "                                <td id=\"T_ab748727_5d14_11ed_a751_8f2dfe48add8row0_col0\" class=\"data row0 col0\" >5</td>\n",
       "                        <td id=\"T_ab748727_5d14_11ed_a751_8f2dfe48add8row0_col1\" class=\"data row0 col1\" >127</td>\n",
       "            </tr>\n",
       "    </tbody></table>"
      ],
      "text/plain": [
       "<pandas.io.formats.style.Styler at 0x9197850>"
      ]
     },
     "execution_count": 12,
     "metadata": {},
     "output_type": "execute_result"
    }
   ],
   "source": [
    "warehouse_distance = pd.read_sql_query(\"\"\"\n",
    "select\n",
    "min(WarehouseToHome) as minimum_distance, max(WarehouseToHome) as maximum_distance\n",
    "from e_commerce\n",
    "\"\"\", conn)\n",
    "\n",
    "warehouse_distance.style.hide_index()"
   ]
  },
  {
   "cell_type": "code",
   "execution_count": 13,
   "id": "2ef8a51d",
   "metadata": {},
   "outputs": [
    {
     "data": {
      "text/html": [
       "<style  type=\"text/css\" >\n",
       "</style><table id=\"T_ab7ad3d8_5d14_11ed_878b_8f2dfe48add8\" ><thead>    <tr>        <th class=\"col_heading level0 col0\" >distance_category</th>        <th class=\"col_heading level0 col1\" >proportion</th>    </tr></thead><tbody>\n",
       "                <tr>\n",
       "                                <td id=\"T_ab7ad3d8_5d14_11ed_878b_8f2dfe48add8row0_col0\" class=\"data row0 col0\" >10-20</td>\n",
       "                        <td id=\"T_ab7ad3d8_5d14_11ed_878b_8f2dfe48add8row0_col1\" class=\"data row0 col1\" >38.900500</td>\n",
       "            </tr>\n",
       "            <tr>\n",
       "                                <td id=\"T_ab7ad3d8_5d14_11ed_878b_8f2dfe48add8row1_col0\" class=\"data row1 col0\" >5-10</td>\n",
       "                        <td id=\"T_ab7ad3d8_5d14_11ed_878b_8f2dfe48add8row1_col1\" class=\"data row1 col1\" >36.291600</td>\n",
       "            </tr>\n",
       "            <tr>\n",
       "                                <td id=\"T_ab7ad3d8_5d14_11ed_878b_8f2dfe48add8row2_col0\" class=\"data row2 col0\" >20-30</td>\n",
       "                        <td id=\"T_ab7ad3d8_5d14_11ed_878b_8f2dfe48add8row2_col1\" class=\"data row2 col1\" >16.678300</td>\n",
       "            </tr>\n",
       "            <tr>\n",
       "                                <td id=\"T_ab7ad3d8_5d14_11ed_878b_8f2dfe48add8row3_col0\" class=\"data row3 col0\" >30-40</td>\n",
       "                        <td id=\"T_ab7ad3d8_5d14_11ed_878b_8f2dfe48add8row3_col1\" class=\"data row3 col1\" >8.082900</td>\n",
       "            </tr>\n",
       "            <tr>\n",
       "                                <td id=\"T_ab7ad3d8_5d14_11ed_878b_8f2dfe48add8row4_col0\" class=\"data row4 col0\" >100 +</td>\n",
       "                        <td id=\"T_ab7ad3d8_5d14_11ed_878b_8f2dfe48add8row4_col1\" class=\"data row4 col1\" >0.046600</td>\n",
       "            </tr>\n",
       "    </tbody></table>"
      ],
      "text/plain": [
       "<pandas.io.formats.style.Styler at 0x91975c8>"
      ]
     },
     "execution_count": 13,
     "metadata": {},
     "output_type": "execute_result"
    }
   ],
   "source": [
    "proportion_warehouse_distance = pd.read_sql_query(\"\"\"\n",
    "SELECT\n",
    "CASE\n",
    "WHEN WarehouseToHome BETWEEN 0 AND 10 THEN '5-10'\n",
    "WHEN WarehouseToHome BETWEEN 11 AND 20 THEN '10-20'\n",
    "WHEN WarehouseToHome BETWEEN 21 AND 30 THEN '20-30'\n",
    "WHEN WarehouseToHome BETWEEN 31 AND 40 THEN '30-40'\n",
    "WHEN WarehouseToHome BETWEEN 41 AND 50 THEN '40-50'\n",
    "WHEN WarehouseToHome BETWEEN 51 AND 60 THEN '50-60'\n",
    "WHEN WarehouseToHome BETWEEN 61 AND 70 THEN '60-70'\n",
    "WHEN WarehouseToHome BETWEEN 71 AND 80 THEN '70-80'\n",
    "WHEN WarehouseToHome BETWEEN 81 AND 90 THEN '80-90'\n",
    "WHEN WarehouseToHome BETWEEN 91 AND 100 THEN '90-100'\n",
    "ELSE '100 +' END AS distance_category,\n",
    "(COUNT(*)/4293)*100 AS proportion\n",
    "FROM e_commerce\n",
    "GROUP BY distance_category\n",
    "ORDER BY proportion DESC\n",
    "\"\"\", conn)\n",
    "\n",
    "proportion_warehouse_distance.style.hide_index()"
   ]
  },
  {
   "cell_type": "code",
   "execution_count": 14,
   "id": "3e8b87f3",
   "metadata": {},
   "outputs": [
    {
     "data": {
      "text/html": [
       "<style  type=\"text/css\" >\n",
       "</style><table id=\"T_ab8076a5_5d14_11ed_9554_8f2dfe48add8\" ><thead>    <tr>        <th class=\"col_heading level0 col0\" >payment_methods</th>        <th class=\"col_heading level0 col1\" >count</th>    </tr></thead><tbody>\n",
       "                <tr>\n",
       "                                <td id=\"T_ab8076a5_5d14_11ed_9554_8f2dfe48add8row0_col0\" class=\"data row0 col0\" >Debit Card</td>\n",
       "                        <td id=\"T_ab8076a5_5d14_11ed_9554_8f2dfe48add8row0_col1\" class=\"data row0 col1\" >1765</td>\n",
       "            </tr>\n",
       "            <tr>\n",
       "                                <td id=\"T_ab8076a5_5d14_11ed_9554_8f2dfe48add8row1_col0\" class=\"data row1 col0\" >Credit Card</td>\n",
       "                        <td id=\"T_ab8076a5_5d14_11ed_9554_8f2dfe48add8row1_col1\" class=\"data row1 col1\" >1132</td>\n",
       "            </tr>\n",
       "            <tr>\n",
       "                                <td id=\"T_ab8076a5_5d14_11ed_9554_8f2dfe48add8row2_col0\" class=\"data row2 col0\" >E wallet</td>\n",
       "                        <td id=\"T_ab8076a5_5d14_11ed_9554_8f2dfe48add8row2_col1\" class=\"data row2 col1\" >477</td>\n",
       "            </tr>\n",
       "            <tr>\n",
       "                                <td id=\"T_ab8076a5_5d14_11ed_9554_8f2dfe48add8row3_col0\" class=\"data row3 col0\" >UPI</td>\n",
       "                        <td id=\"T_ab8076a5_5d14_11ed_9554_8f2dfe48add8row3_col1\" class=\"data row3 col1\" >333</td>\n",
       "            </tr>\n",
       "            <tr>\n",
       "                                <td id=\"T_ab8076a5_5d14_11ed_9554_8f2dfe48add8row4_col0\" class=\"data row4 col0\" >COD</td>\n",
       "                        <td id=\"T_ab8076a5_5d14_11ed_9554_8f2dfe48add8row4_col1\" class=\"data row4 col1\" >333</td>\n",
       "            </tr>\n",
       "            <tr>\n",
       "                                <td id=\"T_ab8076a5_5d14_11ed_9554_8f2dfe48add8row5_col0\" class=\"data row5 col0\" >CC</td>\n",
       "                        <td id=\"T_ab8076a5_5d14_11ed_9554_8f2dfe48add8row5_col1\" class=\"data row5 col1\" >181</td>\n",
       "            </tr>\n",
       "            <tr>\n",
       "                                <td id=\"T_ab8076a5_5d14_11ed_9554_8f2dfe48add8row6_col0\" class=\"data row6 col0\" >Cash on Delivery</td>\n",
       "                        <td id=\"T_ab8076a5_5d14_11ed_9554_8f2dfe48add8row6_col1\" class=\"data row6 col1\" >72</td>\n",
       "            </tr>\n",
       "    </tbody></table>"
      ],
      "text/plain": [
       "<pandas.io.formats.style.Styler at 0x9197d78>"
      ]
     },
     "execution_count": 14,
     "metadata": {},
     "output_type": "execute_result"
    }
   ],
   "source": [
    "payment_methods = pd.read_sql_query(\"\"\"\n",
    "select\n",
    "distinct PreferredPaymentMode as payment_methods, count(*) as count\n",
    "from e_commerce\n",
    "group by payment_methods\n",
    "order by count desc\n",
    "\"\"\", conn)\n",
    "\n",
    "payment_methods.style.hide_index()"
   ]
  },
  {
   "cell_type": "code",
   "execution_count": 17,
   "id": "b50feb4d",
   "metadata": {},
   "outputs": [
    {
     "data": {
      "text/html": [
       "<style  type=\"text/css\" >\n",
       "</style><table id=\"T_9f6583db_5d15_11ed_8f32_8f2dfe48add8\" ><thead>    <tr>        <th class=\"col_heading level0 col0\" >minimun_hours_spent</th>        <th class=\"col_heading level0 col1\" >maximum_hours_spent</th>    </tr></thead><tbody>\n",
       "                <tr>\n",
       "                                <td id=\"T_9f6583db_5d15_11ed_8f32_8f2dfe48add8row0_col0\" class=\"data row0 col0\" >1</td>\n",
       "                        <td id=\"T_9f6583db_5d15_11ed_8f32_8f2dfe48add8row0_col1\" class=\"data row0 col1\" >5</td>\n",
       "            </tr>\n",
       "    </tbody></table>"
      ],
      "text/plain": [
       "<pandas.io.formats.style.Styler at 0x9197b80>"
      ]
     },
     "execution_count": 17,
     "metadata": {},
     "output_type": "execute_result"
    }
   ],
   "source": [
    "hours_spent_range = pd.read_sql_query(\"\"\"\n",
    "select\n",
    "min(HourSpendOnApp) as minimun_hours_spent, max(HourSpendOnApp) as maximum_hours_spent\n",
    "from e_commerce\n",
    "where HourSpendOnApp != \"\" and HourSpendOnApp != 0\n",
    "\"\"\", conn)\n",
    "\n",
    "hours_spent_range.style.hide_index()"
   ]
  },
  {
   "cell_type": "code",
   "execution_count": null,
   "id": "76ccb677",
   "metadata": {},
   "outputs": [],
   "source": [
    "hours_spent_distribution = pd.read_sql_query(\"\"\"\n",
    "select\n",
    "\n",
    "\"\"\", conn)"
   ]
  }
 ],
 "metadata": {
  "kernelspec": {
   "display_name": "Python 3",
   "language": "python",
   "name": "python3"
  },
  "language_info": {
   "codemirror_mode": {
    "name": "ipython",
    "version": 3
   },
   "file_extension": ".py",
   "mimetype": "text/x-python",
   "name": "python",
   "nbconvert_exporter": "python",
   "pygments_lexer": "ipython3",
   "version": "3.8.3"
  }
 },
 "nbformat": 4,
 "nbformat_minor": 5
}
