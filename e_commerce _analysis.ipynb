{
 "cells": [
  {
   "cell_type": "code",
   "execution_count": 1,
   "id": "e154f362",
   "metadata": {},
   "outputs": [],
   "source": [
    "import pandas as pd\n",
    "import pymysql"
   ]
  },
  {
   "cell_type": "code",
   "execution_count": 2,
   "id": "187b8a05",
   "metadata": {},
   "outputs": [],
   "source": [
    "db_name = \"online_store_data\"\n",
    "db_host = \"localhost\"\n",
    "db_username = \"root\"\n",
    "db_password = \"Garracrema25\""
   ]
  },
  {
   "cell_type": "code",
   "execution_count": 3,
   "id": "e0cb35b8",
   "metadata": {},
   "outputs": [],
   "source": [
    "try:\n",
    "    conn = pymysql.connect(host=db_host,\n",
    "                            port=int(3306),\n",
    "                            user='root',\n",
    "                            passwd=db_password,\n",
    "                            db=db_name)\n",
    "except e:\n",
    "    print(e)"
   ]
  },
  {
   "cell_type": "code",
   "execution_count": 4,
   "id": "24a725ce",
   "metadata": {},
   "outputs": [
    {
     "name": "stdout",
     "output_type": "stream",
     "text": [
      "Successful Connection!\n"
     ]
    }
   ],
   "source": [
    "if conn:\n",
    "    print(\"Successful Connection!\")\n",
    "else:\n",
    "    print(\"Connection Failed\")"
   ]
  },
  {
   "cell_type": "code",
   "execution_count": 5,
   "id": "6b53d24d",
   "metadata": {},
   "outputs": [
    {
     "data": {
      "text/html": [
       "<div>\n",
       "<style scoped>\n",
       "    .dataframe tbody tr th:only-of-type {\n",
       "        vertical-align: middle;\n",
       "    }\n",
       "\n",
       "    .dataframe tbody tr th {\n",
       "        vertical-align: top;\n",
       "    }\n",
       "\n",
       "    .dataframe thead th {\n",
       "        text-align: right;\n",
       "    }\n",
       "</style>\n",
       "<table border=\"1\" class=\"dataframe\">\n",
       "  <thead>\n",
       "    <tr style=\"text-align: right;\">\n",
       "      <th></th>\n",
       "      <th>CustomerID</th>\n",
       "      <th>Churn</th>\n",
       "      <th>Tenure</th>\n",
       "      <th>PreferredLoginDevice</th>\n",
       "      <th>CityTier</th>\n",
       "      <th>WarehouseToHome</th>\n",
       "      <th>PreferredPaymentMode</th>\n",
       "      <th>Gender</th>\n",
       "      <th>HourSpendOnApp</th>\n",
       "      <th>NumberOfDeviceRegistered</th>\n",
       "      <th>PreferedOrderCat</th>\n",
       "      <th>SatisfactionScore</th>\n",
       "      <th>MaritalStatus</th>\n",
       "      <th>NumberOfAddress</th>\n",
       "      <th>Complain</th>\n",
       "      <th>OrderAmountHikeFromlastYear</th>\n",
       "      <th>CouponUsed</th>\n",
       "      <th>OrderCount</th>\n",
       "      <th>DaySinceLastOrder</th>\n",
       "      <th>CashbackAmount</th>\n",
       "    </tr>\n",
       "  </thead>\n",
       "  <tbody>\n",
       "    <tr>\n",
       "      <th>0</th>\n",
       "      <td>50001</td>\n",
       "      <td>1</td>\n",
       "      <td>4</td>\n",
       "      <td>Mobile Phone</td>\n",
       "      <td>3</td>\n",
       "      <td>6</td>\n",
       "      <td>Debit Card</td>\n",
       "      <td>Female</td>\n",
       "      <td>3</td>\n",
       "      <td>3</td>\n",
       "      <td>Laptop &amp; Accessory</td>\n",
       "      <td>2</td>\n",
       "      <td>Single</td>\n",
       "      <td>9</td>\n",
       "      <td>1</td>\n",
       "      <td>11</td>\n",
       "      <td>1</td>\n",
       "      <td>1</td>\n",
       "      <td>5</td>\n",
       "      <td>160</td>\n",
       "    </tr>\n",
       "    <tr>\n",
       "      <th>1</th>\n",
       "      <td>50002</td>\n",
       "      <td>1</td>\n",
       "      <td></td>\n",
       "      <td>Phone</td>\n",
       "      <td>1</td>\n",
       "      <td>8</td>\n",
       "      <td>UPI</td>\n",
       "      <td>Male</td>\n",
       "      <td>3</td>\n",
       "      <td>4</td>\n",
       "      <td>Mobile</td>\n",
       "      <td>3</td>\n",
       "      <td>Single</td>\n",
       "      <td>7</td>\n",
       "      <td>1</td>\n",
       "      <td>15</td>\n",
       "      <td>0</td>\n",
       "      <td>1</td>\n",
       "      <td>0</td>\n",
       "      <td>121</td>\n",
       "    </tr>\n",
       "    <tr>\n",
       "      <th>2</th>\n",
       "      <td>50003</td>\n",
       "      <td>1</td>\n",
       "      <td></td>\n",
       "      <td>Phone</td>\n",
       "      <td>1</td>\n",
       "      <td>30</td>\n",
       "      <td>Debit Card</td>\n",
       "      <td>Male</td>\n",
       "      <td>2</td>\n",
       "      <td>4</td>\n",
       "      <td>Mobile</td>\n",
       "      <td>3</td>\n",
       "      <td>Single</td>\n",
       "      <td>6</td>\n",
       "      <td>1</td>\n",
       "      <td>14</td>\n",
       "      <td>0</td>\n",
       "      <td>1</td>\n",
       "      <td>3</td>\n",
       "      <td>120</td>\n",
       "    </tr>\n",
       "    <tr>\n",
       "      <th>3</th>\n",
       "      <td>50004</td>\n",
       "      <td>1</td>\n",
       "      <td>0</td>\n",
       "      <td>Phone</td>\n",
       "      <td>3</td>\n",
       "      <td>15</td>\n",
       "      <td>Debit Card</td>\n",
       "      <td>Male</td>\n",
       "      <td>2</td>\n",
       "      <td>4</td>\n",
       "      <td>Laptop &amp; Accessory</td>\n",
       "      <td>5</td>\n",
       "      <td>Single</td>\n",
       "      <td>8</td>\n",
       "      <td>0</td>\n",
       "      <td>23</td>\n",
       "      <td>0</td>\n",
       "      <td>1</td>\n",
       "      <td>3</td>\n",
       "      <td>134</td>\n",
       "    </tr>\n",
       "    <tr>\n",
       "      <th>4</th>\n",
       "      <td>50005</td>\n",
       "      <td>1</td>\n",
       "      <td>0</td>\n",
       "      <td>Phone</td>\n",
       "      <td>1</td>\n",
       "      <td>12</td>\n",
       "      <td>CC</td>\n",
       "      <td>Male</td>\n",
       "      <td></td>\n",
       "      <td>3</td>\n",
       "      <td>Mobile</td>\n",
       "      <td>5</td>\n",
       "      <td>Single</td>\n",
       "      <td>3</td>\n",
       "      <td>0</td>\n",
       "      <td>11</td>\n",
       "      <td>1</td>\n",
       "      <td>1</td>\n",
       "      <td>3</td>\n",
       "      <td>130</td>\n",
       "    </tr>\n",
       "    <tr>\n",
       "      <th>5</th>\n",
       "      <td>50006</td>\n",
       "      <td>1</td>\n",
       "      <td>0</td>\n",
       "      <td>Computer</td>\n",
       "      <td>1</td>\n",
       "      <td>22</td>\n",
       "      <td>Debit Card</td>\n",
       "      <td>Female</td>\n",
       "      <td>3</td>\n",
       "      <td>5</td>\n",
       "      <td>Mobile Phone</td>\n",
       "      <td>5</td>\n",
       "      <td>Single</td>\n",
       "      <td>2</td>\n",
       "      <td>1</td>\n",
       "      <td>22</td>\n",
       "      <td>4</td>\n",
       "      <td>6</td>\n",
       "      <td>7</td>\n",
       "      <td>139</td>\n",
       "    </tr>\n",
       "    <tr>\n",
       "      <th>6</th>\n",
       "      <td>50007</td>\n",
       "      <td>1</td>\n",
       "      <td></td>\n",
       "      <td>Phone</td>\n",
       "      <td>3</td>\n",
       "      <td>11</td>\n",
       "      <td>Cash on Delivery</td>\n",
       "      <td>Male</td>\n",
       "      <td>2</td>\n",
       "      <td>3</td>\n",
       "      <td>Laptop &amp; Accessory</td>\n",
       "      <td>2</td>\n",
       "      <td>Divorced</td>\n",
       "      <td>4</td>\n",
       "      <td>0</td>\n",
       "      <td>14</td>\n",
       "      <td>0</td>\n",
       "      <td>1</td>\n",
       "      <td>0</td>\n",
       "      <td>121</td>\n",
       "    </tr>\n",
       "    <tr>\n",
       "      <th>7</th>\n",
       "      <td>50008</td>\n",
       "      <td>1</td>\n",
       "      <td></td>\n",
       "      <td>Phone</td>\n",
       "      <td>1</td>\n",
       "      <td>6</td>\n",
       "      <td>CC</td>\n",
       "      <td>Male</td>\n",
       "      <td>3</td>\n",
       "      <td>3</td>\n",
       "      <td>Mobile</td>\n",
       "      <td>2</td>\n",
       "      <td>Divorced</td>\n",
       "      <td>3</td>\n",
       "      <td>1</td>\n",
       "      <td>16</td>\n",
       "      <td>2</td>\n",
       "      <td>2</td>\n",
       "      <td>0</td>\n",
       "      <td>123</td>\n",
       "    </tr>\n",
       "    <tr>\n",
       "      <th>8</th>\n",
       "      <td>50009</td>\n",
       "      <td>1</td>\n",
       "      <td>13</td>\n",
       "      <td>Phone</td>\n",
       "      <td>3</td>\n",
       "      <td>9</td>\n",
       "      <td>E wallet</td>\n",
       "      <td>Male</td>\n",
       "      <td></td>\n",
       "      <td>4</td>\n",
       "      <td>Mobile</td>\n",
       "      <td>3</td>\n",
       "      <td>Divorced</td>\n",
       "      <td>2</td>\n",
       "      <td>1</td>\n",
       "      <td>14</td>\n",
       "      <td>0</td>\n",
       "      <td>1</td>\n",
       "      <td>2</td>\n",
       "      <td>127</td>\n",
       "    </tr>\n",
       "    <tr>\n",
       "      <th>9</th>\n",
       "      <td>50010</td>\n",
       "      <td>1</td>\n",
       "      <td></td>\n",
       "      <td>Phone</td>\n",
       "      <td>1</td>\n",
       "      <td>31</td>\n",
       "      <td>Debit Card</td>\n",
       "      <td>Male</td>\n",
       "      <td>2</td>\n",
       "      <td>5</td>\n",
       "      <td>Mobile</td>\n",
       "      <td>3</td>\n",
       "      <td>Single</td>\n",
       "      <td>2</td>\n",
       "      <td>0</td>\n",
       "      <td>12</td>\n",
       "      <td>1</td>\n",
       "      <td>1</td>\n",
       "      <td>1</td>\n",
       "      <td>123</td>\n",
       "    </tr>\n",
       "  </tbody>\n",
       "</table>\n",
       "</div>"
      ],
      "text/plain": [
       "   CustomerID  Churn Tenure PreferredLoginDevice  CityTier  WarehouseToHome  \\\n",
       "0       50001      1      4         Mobile Phone         3                6   \n",
       "1       50002      1                       Phone         1                8   \n",
       "2       50003      1                       Phone         1               30   \n",
       "3       50004      1      0                Phone         3               15   \n",
       "4       50005      1      0                Phone         1               12   \n",
       "5       50006      1      0             Computer         1               22   \n",
       "6       50007      1                       Phone         3               11   \n",
       "7       50008      1                       Phone         1                6   \n",
       "8       50009      1     13                Phone         3                9   \n",
       "9       50010      1                       Phone         1               31   \n",
       "\n",
       "  PreferredPaymentMode  Gender HourSpendOnApp  NumberOfDeviceRegistered  \\\n",
       "0           Debit Card  Female              3                         3   \n",
       "1                  UPI    Male              3                         4   \n",
       "2           Debit Card    Male              2                         4   \n",
       "3           Debit Card    Male              2                         4   \n",
       "4                   CC    Male                                        3   \n",
       "5           Debit Card  Female              3                         5   \n",
       "6     Cash on Delivery    Male              2                         3   \n",
       "7                   CC    Male              3                         3   \n",
       "8             E wallet    Male                                        4   \n",
       "9           Debit Card    Male              2                         5   \n",
       "\n",
       "     PreferedOrderCat  SatisfactionScore MaritalStatus  NumberOfAddress  \\\n",
       "0  Laptop & Accessory                  2        Single                9   \n",
       "1              Mobile                  3        Single                7   \n",
       "2              Mobile                  3        Single                6   \n",
       "3  Laptop & Accessory                  5        Single                8   \n",
       "4              Mobile                  5        Single                3   \n",
       "5        Mobile Phone                  5        Single                2   \n",
       "6  Laptop & Accessory                  2      Divorced                4   \n",
       "7              Mobile                  2      Divorced                3   \n",
       "8              Mobile                  3      Divorced                2   \n",
       "9              Mobile                  3        Single                2   \n",
       "\n",
       "   Complain  OrderAmountHikeFromlastYear  CouponUsed  OrderCount  \\\n",
       "0         1                           11           1           1   \n",
       "1         1                           15           0           1   \n",
       "2         1                           14           0           1   \n",
       "3         0                           23           0           1   \n",
       "4         0                           11           1           1   \n",
       "5         1                           22           4           6   \n",
       "6         0                           14           0           1   \n",
       "7         1                           16           2           2   \n",
       "8         1                           14           0           1   \n",
       "9         0                           12           1           1   \n",
       "\n",
       "   DaySinceLastOrder  CashbackAmount  \n",
       "0                  5             160  \n",
       "1                  0             121  \n",
       "2                  3             120  \n",
       "3                  3             134  \n",
       "4                  3             130  \n",
       "5                  7             139  \n",
       "6                  0             121  \n",
       "7                  0             123  \n",
       "8                  2             127  \n",
       "9                  1             123  "
      ]
     },
     "execution_count": 5,
     "metadata": {},
     "output_type": "execute_result"
    }
   ],
   "source": [
    "full_table = pd.read_sql_query(\"\"\"SELECT * FROM e_commerce LIMIT 10\"\"\", conn)\n",
    "full_table"
   ]
  },
  {
   "cell_type": "markdown",
   "id": "ad00f135",
   "metadata": {},
   "source": [
    "## Number of customers, how many churned?, tenure range, distribution of login device, how many city tier, count of city tier, range of warehouse distance, how many payment methods?, count of payment methods, range of hours spent on app & distribution, devices registered count, order categories & count, satisfaction score distribution, address ranges & count, complaints count, count of amount hikes & range, coupons used count, order count characteristics what does it tell us?, cashback amount range & categories?  "
   ]
  },
  {
   "cell_type": "code",
   "execution_count": 6,
   "id": "56723005",
   "metadata": {},
   "outputs": [
    {
     "data": {
      "text/html": [
       "<style  type=\"text/css\" >\n",
       "</style><table id=\"T_f31fbc4c_5f85_11ed_a420_c1c2f45ca2fa\" ><thead>    <tr>        <th class=\"col_heading level0 col0\" >number_of_customers</th>    </tr></thead><tbody>\n",
       "                <tr>\n",
       "                                <td id=\"T_f31fbc4c_5f85_11ed_a420_c1c2f45ca2farow0_col0\" class=\"data row0 col0\" >4293</td>\n",
       "            </tr>\n",
       "    </tbody></table>"
      ],
      "text/plain": [
       "<pandas.io.formats.style.Styler at 0x73adeb0>"
      ]
     },
     "execution_count": 6,
     "metadata": {},
     "output_type": "execute_result"
    }
   ],
   "source": [
    "number_of_customers = pd.read_sql_query(\"\"\"\n",
    "select\n",
    "count(distinct CustomerID) as number_of_customers\n",
    "from e_commerce\n",
    "\"\"\", conn)\n",
    "\n",
    "number_of_customers.style.hide_index()"
   ]
  },
  {
   "cell_type": "code",
   "execution_count": 7,
   "id": "ed0d19ba",
   "metadata": {},
   "outputs": [
    {
     "data": {
      "text/html": [
       "<style  type=\"text/css\" >\n",
       "</style><table id=\"T_f327c87a_5f85_11ed_a615_c1c2f45ca2fa\" ><thead>    <tr>        <th class=\"col_heading level0 col0\" >churn_category</th>        <th class=\"col_heading level0 col1\" >proportion</th>    </tr></thead><tbody>\n",
       "                <tr>\n",
       "                                <td id=\"T_f327c87a_5f85_11ed_a615_c1c2f45ca2farow0_col0\" class=\"data row0 col0\" >1</td>\n",
       "                        <td id=\"T_f327c87a_5f85_11ed_a615_c1c2f45ca2farow0_col1\" class=\"data row0 col1\" >17.936200</td>\n",
       "            </tr>\n",
       "            <tr>\n",
       "                                <td id=\"T_f327c87a_5f85_11ed_a615_c1c2f45ca2farow1_col0\" class=\"data row1 col0\" >0</td>\n",
       "                        <td id=\"T_f327c87a_5f85_11ed_a615_c1c2f45ca2farow1_col1\" class=\"data row1 col1\" >82.063800</td>\n",
       "            </tr>\n",
       "    </tbody></table>"
      ],
      "text/plain": [
       "<pandas.io.formats.style.Styler at 0x8e1d9e8>"
      ]
     },
     "execution_count": 7,
     "metadata": {},
     "output_type": "execute_result"
    }
   ],
   "source": [
    "count_customers_churned = pd.read_sql_query(\"\"\"\n",
    "select\n",
    "Churn as churn_category, (count(*)/4293)*100 as proportion\n",
    "from e_commerce\n",
    "group by churn_category\n",
    "\"\"\", conn)\n",
    "\n",
    "count_customers_churned.style.hide_index()"
   ]
  },
  {
   "cell_type": "code",
   "execution_count": 8,
   "id": "223d2287",
   "metadata": {},
   "outputs": [
    {
     "data": {
      "text/html": [
       "<style  type=\"text/css\" >\n",
       "</style><table id=\"T_f32bdfe4_5f85_11ed_888a_c1c2f45ca2fa\" ><thead>    <tr>        <th class=\"col_heading level0 col0\" >shortest_tenure</th>        <th class=\"col_heading level0 col1\" >longest_tenure</th>    </tr></thead><tbody>\n",
       "                <tr>\n",
       "                                <td id=\"T_f32bdfe4_5f85_11ed_888a_c1c2f45ca2farow0_col0\" class=\"data row0 col0\" >0</td>\n",
       "                        <td id=\"T_f32bdfe4_5f85_11ed_888a_c1c2f45ca2farow0_col1\" class=\"data row0 col1\" >9</td>\n",
       "            </tr>\n",
       "    </tbody></table>"
      ],
      "text/plain": [
       "<pandas.io.formats.style.Styler at 0x8e1d0a0>"
      ]
     },
     "execution_count": 8,
     "metadata": {},
     "output_type": "execute_result"
    }
   ],
   "source": [
    "tenure_range = pd.read_sql_query(\"\"\"\n",
    "select\n",
    "min(Tenure) as shortest_tenure, max(Tenure) as longest_tenure\n",
    "from e_commerce\n",
    "where Tenure != \"\"\n",
    "\"\"\", conn)\n",
    "\n",
    "tenure_range.style.hide_index()"
   ]
  },
  {
   "cell_type": "code",
   "execution_count": 9,
   "id": "c81e94d8",
   "metadata": {},
   "outputs": [
    {
     "data": {
      "text/html": [
       "<style  type=\"text/css\" >\n",
       "</style><table id=\"T_f3318da0_5f85_11ed_aeb1_c1c2f45ca2fa\" ><thead>    <tr>        <th class=\"col_heading level0 col0\" >device</th>        <th class=\"col_heading level0 col1\" >proportion</th>    </tr></thead><tbody>\n",
       "                <tr>\n",
       "                                <td id=\"T_f3318da0_5f85_11ed_aeb1_c1c2f45ca2farow0_col0\" class=\"data row0 col0\" >Mobile Phone</td>\n",
       "                        <td id=\"T_f3318da0_5f85_11ed_aeb1_c1c2f45ca2farow0_col1\" class=\"data row0 col1\" >45.865400</td>\n",
       "            </tr>\n",
       "            <tr>\n",
       "                                <td id=\"T_f3318da0_5f85_11ed_aeb1_c1c2f45ca2farow1_col0\" class=\"data row1 col0\" >Computer</td>\n",
       "                        <td id=\"T_f3318da0_5f85_11ed_aeb1_c1c2f45ca2farow1_col1\" class=\"data row1 col1\" >29.536500</td>\n",
       "            </tr>\n",
       "            <tr>\n",
       "                                <td id=\"T_f3318da0_5f85_11ed_aeb1_c1c2f45ca2farow2_col0\" class=\"data row2 col0\" >Phone</td>\n",
       "                        <td id=\"T_f3318da0_5f85_11ed_aeb1_c1c2f45ca2farow2_col1\" class=\"data row2 col1\" >24.598200</td>\n",
       "            </tr>\n",
       "    </tbody></table>"
      ],
      "text/plain": [
       "<pandas.io.formats.style.Styler at 0x8e34190>"
      ]
     },
     "execution_count": 9,
     "metadata": {},
     "output_type": "execute_result"
    }
   ],
   "source": [
    "login_device_distribution = pd.read_sql_query(\"\"\"\n",
    "select\n",
    "PreferredLoginDevice as device, (count(*)/4293)*100 as proportion\n",
    "from e_commerce\n",
    "group by device\n",
    "order by proportion desc\n",
    "\"\"\", conn)\n",
    "\n",
    "login_device_distribution.style.hide_index()"
   ]
  },
  {
   "cell_type": "code",
   "execution_count": 10,
   "id": "2997b8c0",
   "metadata": {},
   "outputs": [
    {
     "data": {
      "text/html": [
       "<style  type=\"text/css\" >\n",
       "</style><table id=\"T_f334b013_5f85_11ed_af4c_c1c2f45ca2fa\" ><thead>    <tr>        <th class=\"col_heading level0 col0\" >number_of_tiers</th>    </tr></thead><tbody>\n",
       "                <tr>\n",
       "                                <td id=\"T_f334b013_5f85_11ed_af4c_c1c2f45ca2farow0_col0\" class=\"data row0 col0\" >3</td>\n",
       "            </tr>\n",
       "    </tbody></table>"
      ],
      "text/plain": [
       "<pandas.io.formats.style.Styler at 0x8e1d958>"
      ]
     },
     "execution_count": 10,
     "metadata": {},
     "output_type": "execute_result"
    }
   ],
   "source": [
    "city_tiers = pd.read_sql_query(\"\"\"\n",
    "select\n",
    "count(distinct CityTier) as number_of_tiers\n",
    "from e_commerce\n",
    "\"\"\", conn)\n",
    "\n",
    "city_tiers.style.hide_index()"
   ]
  },
  {
   "cell_type": "code",
   "execution_count": 11,
   "id": "d48fd7b0",
   "metadata": {},
   "outputs": [
    {
     "data": {
      "text/html": [
       "<style  type=\"text/css\" >\n",
       "</style><table id=\"T_f3399869_5f85_11ed_a28b_c1c2f45ca2fa\" ><thead>    <tr>        <th class=\"col_heading level0 col0\" >tiers</th>        <th class=\"col_heading level0 col1\" >proportion</th>    </tr></thead><tbody>\n",
       "                <tr>\n",
       "                                <td id=\"T_f3399869_5f85_11ed_a28b_c1c2f45ca2farow0_col0\" class=\"data row0 col0\" >1</td>\n",
       "                        <td id=\"T_f3399869_5f85_11ed_a28b_c1c2f45ca2farow0_col1\" class=\"data row0 col1\" >64.081100</td>\n",
       "            </tr>\n",
       "            <tr>\n",
       "                                <td id=\"T_f3399869_5f85_11ed_a28b_c1c2f45ca2farow1_col0\" class=\"data row1 col0\" >3</td>\n",
       "                        <td id=\"T_f3399869_5f85_11ed_a28b_c1c2f45ca2farow1_col1\" class=\"data row1 col1\" >31.632900</td>\n",
       "            </tr>\n",
       "            <tr>\n",
       "                                <td id=\"T_f3399869_5f85_11ed_a28b_c1c2f45ca2farow2_col0\" class=\"data row2 col0\" >2</td>\n",
       "                        <td id=\"T_f3399869_5f85_11ed_a28b_c1c2f45ca2farow2_col1\" class=\"data row2 col1\" >4.286000</td>\n",
       "            </tr>\n",
       "    </tbody></table>"
      ],
      "text/plain": [
       "<pandas.io.formats.style.Styler at 0x8e34d30>"
      ]
     },
     "execution_count": 11,
     "metadata": {},
     "output_type": "execute_result"
    }
   ],
   "source": [
    "proportions_per_tier = pd.read_sql_query(\"\"\"\n",
    "select\n",
    "CityTier as tiers, (count(*)/4293)*100 as proportion\n",
    "from e_commerce\n",
    "group by tiers\n",
    "order by proportion desc\n",
    "\"\"\", conn)\n",
    "\n",
    "proportions_per_tier.style.hide_index()"
   ]
  },
  {
   "cell_type": "code",
   "execution_count": 12,
   "id": "363e306b",
   "metadata": {},
   "outputs": [
    {
     "data": {
      "text/html": [
       "<style  type=\"text/css\" >\n",
       "</style><table id=\"T_f33e3d46_5f85_11ed_8d98_c1c2f45ca2fa\" ><thead>    <tr>        <th class=\"col_heading level0 col0\" >minimum_distance</th>        <th class=\"col_heading level0 col1\" >maximum_distance</th>    </tr></thead><tbody>\n",
       "                <tr>\n",
       "                                <td id=\"T_f33e3d46_5f85_11ed_8d98_c1c2f45ca2farow0_col0\" class=\"data row0 col0\" >5</td>\n",
       "                        <td id=\"T_f33e3d46_5f85_11ed_8d98_c1c2f45ca2farow0_col1\" class=\"data row0 col1\" >127</td>\n",
       "            </tr>\n",
       "    </tbody></table>"
      ],
      "text/plain": [
       "<pandas.io.formats.style.Styler at 0x8e34bc8>"
      ]
     },
     "execution_count": 12,
     "metadata": {},
     "output_type": "execute_result"
    }
   ],
   "source": [
    "warehouse_distance = pd.read_sql_query(\"\"\"\n",
    "select\n",
    "min(WarehouseToHome) as minimum_distance, max(WarehouseToHome) as maximum_distance\n",
    "from e_commerce\n",
    "\"\"\", conn)\n",
    "\n",
    "warehouse_distance.style.hide_index()"
   ]
  },
  {
   "cell_type": "code",
   "execution_count": 13,
   "id": "7093af81",
   "metadata": {},
   "outputs": [
    {
     "data": {
      "text/html": [
       "<style  type=\"text/css\" >\n",
       "</style><table id=\"T_f343edf6_5f85_11ed_80a5_c1c2f45ca2fa\" ><thead>    <tr>        <th class=\"col_heading level0 col0\" >distance_category</th>        <th class=\"col_heading level0 col1\" >proportion</th>    </tr></thead><tbody>\n",
       "                <tr>\n",
       "                                <td id=\"T_f343edf6_5f85_11ed_80a5_c1c2f45ca2farow0_col0\" class=\"data row0 col0\" >10-20</td>\n",
       "                        <td id=\"T_f343edf6_5f85_11ed_80a5_c1c2f45ca2farow0_col1\" class=\"data row0 col1\" >38.900500</td>\n",
       "            </tr>\n",
       "            <tr>\n",
       "                                <td id=\"T_f343edf6_5f85_11ed_80a5_c1c2f45ca2farow1_col0\" class=\"data row1 col0\" >5-10</td>\n",
       "                        <td id=\"T_f343edf6_5f85_11ed_80a5_c1c2f45ca2farow1_col1\" class=\"data row1 col1\" >36.291600</td>\n",
       "            </tr>\n",
       "            <tr>\n",
       "                                <td id=\"T_f343edf6_5f85_11ed_80a5_c1c2f45ca2farow2_col0\" class=\"data row2 col0\" >20-30</td>\n",
       "                        <td id=\"T_f343edf6_5f85_11ed_80a5_c1c2f45ca2farow2_col1\" class=\"data row2 col1\" >16.678300</td>\n",
       "            </tr>\n",
       "            <tr>\n",
       "                                <td id=\"T_f343edf6_5f85_11ed_80a5_c1c2f45ca2farow3_col0\" class=\"data row3 col0\" >30-40</td>\n",
       "                        <td id=\"T_f343edf6_5f85_11ed_80a5_c1c2f45ca2farow3_col1\" class=\"data row3 col1\" >8.082900</td>\n",
       "            </tr>\n",
       "            <tr>\n",
       "                                <td id=\"T_f343edf6_5f85_11ed_80a5_c1c2f45ca2farow4_col0\" class=\"data row4 col0\" >100 +</td>\n",
       "                        <td id=\"T_f343edf6_5f85_11ed_80a5_c1c2f45ca2farow4_col1\" class=\"data row4 col1\" >0.046600</td>\n",
       "            </tr>\n",
       "    </tbody></table>"
      ],
      "text/plain": [
       "<pandas.io.formats.style.Styler at 0x8e34e98>"
      ]
     },
     "execution_count": 13,
     "metadata": {},
     "output_type": "execute_result"
    }
   ],
   "source": [
    "proportion_warehouse_distance = pd.read_sql_query(\"\"\"\n",
    "SELECT\n",
    "CASE\n",
    "WHEN WarehouseToHome BETWEEN 0 AND 10 THEN '5-10'\n",
    "WHEN WarehouseToHome BETWEEN 11 AND 20 THEN '10-20'\n",
    "WHEN WarehouseToHome BETWEEN 21 AND 30 THEN '20-30'\n",
    "WHEN WarehouseToHome BETWEEN 31 AND 40 THEN '30-40'\n",
    "WHEN WarehouseToHome BETWEEN 41 AND 50 THEN '40-50'\n",
    "WHEN WarehouseToHome BETWEEN 51 AND 60 THEN '50-60'\n",
    "WHEN WarehouseToHome BETWEEN 61 AND 70 THEN '60-70'\n",
    "WHEN WarehouseToHome BETWEEN 71 AND 80 THEN '70-80'\n",
    "WHEN WarehouseToHome BETWEEN 81 AND 90 THEN '80-90'\n",
    "WHEN WarehouseToHome BETWEEN 91 AND 100 THEN '90-100'\n",
    "ELSE '100 +' END AS distance_category,\n",
    "(COUNT(*)/4293)*100 AS proportion\n",
    "FROM e_commerce\n",
    "GROUP BY distance_category\n",
    "ORDER BY proportion DESC\n",
    "\"\"\", conn)\n",
    "\n",
    "proportion_warehouse_distance.style.hide_index()"
   ]
  },
  {
   "cell_type": "code",
   "execution_count": 14,
   "id": "481a344e",
   "metadata": {},
   "outputs": [
    {
     "data": {
      "text/html": [
       "<style  type=\"text/css\" >\n",
       "</style><table id=\"T_f349b03b_5f85_11ed_bb93_c1c2f45ca2fa\" ><thead>    <tr>        <th class=\"col_heading level0 col0\" >payment_methods</th>        <th class=\"col_heading level0 col1\" >count</th>    </tr></thead><tbody>\n",
       "                <tr>\n",
       "                                <td id=\"T_f349b03b_5f85_11ed_bb93_c1c2f45ca2farow0_col0\" class=\"data row0 col0\" >Debit Card</td>\n",
       "                        <td id=\"T_f349b03b_5f85_11ed_bb93_c1c2f45ca2farow0_col1\" class=\"data row0 col1\" >1765</td>\n",
       "            </tr>\n",
       "            <tr>\n",
       "                                <td id=\"T_f349b03b_5f85_11ed_bb93_c1c2f45ca2farow1_col0\" class=\"data row1 col0\" >Credit Card</td>\n",
       "                        <td id=\"T_f349b03b_5f85_11ed_bb93_c1c2f45ca2farow1_col1\" class=\"data row1 col1\" >1132</td>\n",
       "            </tr>\n",
       "            <tr>\n",
       "                                <td id=\"T_f349b03b_5f85_11ed_bb93_c1c2f45ca2farow2_col0\" class=\"data row2 col0\" >E wallet</td>\n",
       "                        <td id=\"T_f349b03b_5f85_11ed_bb93_c1c2f45ca2farow2_col1\" class=\"data row2 col1\" >477</td>\n",
       "            </tr>\n",
       "            <tr>\n",
       "                                <td id=\"T_f349b03b_5f85_11ed_bb93_c1c2f45ca2farow3_col0\" class=\"data row3 col0\" >UPI</td>\n",
       "                        <td id=\"T_f349b03b_5f85_11ed_bb93_c1c2f45ca2farow3_col1\" class=\"data row3 col1\" >333</td>\n",
       "            </tr>\n",
       "            <tr>\n",
       "                                <td id=\"T_f349b03b_5f85_11ed_bb93_c1c2f45ca2farow4_col0\" class=\"data row4 col0\" >COD</td>\n",
       "                        <td id=\"T_f349b03b_5f85_11ed_bb93_c1c2f45ca2farow4_col1\" class=\"data row4 col1\" >333</td>\n",
       "            </tr>\n",
       "            <tr>\n",
       "                                <td id=\"T_f349b03b_5f85_11ed_bb93_c1c2f45ca2farow5_col0\" class=\"data row5 col0\" >CC</td>\n",
       "                        <td id=\"T_f349b03b_5f85_11ed_bb93_c1c2f45ca2farow5_col1\" class=\"data row5 col1\" >181</td>\n",
       "            </tr>\n",
       "            <tr>\n",
       "                                <td id=\"T_f349b03b_5f85_11ed_bb93_c1c2f45ca2farow6_col0\" class=\"data row6 col0\" >Cash on Delivery</td>\n",
       "                        <td id=\"T_f349b03b_5f85_11ed_bb93_c1c2f45ca2farow6_col1\" class=\"data row6 col1\" >72</td>\n",
       "            </tr>\n",
       "    </tbody></table>"
      ],
      "text/plain": [
       "<pandas.io.formats.style.Styler at 0x8ebc160>"
      ]
     },
     "execution_count": 14,
     "metadata": {},
     "output_type": "execute_result"
    }
   ],
   "source": [
    "payment_methods = pd.read_sql_query(\"\"\"\n",
    "select\n",
    "distinct PreferredPaymentMode as payment_methods, count(*) as count\n",
    "from e_commerce\n",
    "group by payment_methods\n",
    "order by count desc\n",
    "\"\"\", conn)\n",
    "\n",
    "payment_methods.style.hide_index()"
   ]
  },
  {
   "cell_type": "code",
   "execution_count": 15,
   "id": "5ec81bc1",
   "metadata": {},
   "outputs": [
    {
     "data": {
      "text/html": [
       "<style  type=\"text/css\" >\n",
       "</style><table id=\"T_f34d2015_5f85_11ed_9194_c1c2f45ca2fa\" ><thead>    <tr>        <th class=\"col_heading level0 col0\" >minimun_hours_spent</th>        <th class=\"col_heading level0 col1\" >maximum_hours_spent</th>    </tr></thead><tbody>\n",
       "                <tr>\n",
       "                                <td id=\"T_f34d2015_5f85_11ed_9194_c1c2f45ca2farow0_col0\" class=\"data row0 col0\" >1</td>\n",
       "                        <td id=\"T_f34d2015_5f85_11ed_9194_c1c2f45ca2farow0_col1\" class=\"data row0 col1\" >5</td>\n",
       "            </tr>\n",
       "    </tbody></table>"
      ],
      "text/plain": [
       "<pandas.io.formats.style.Styler at 0x8ebc490>"
      ]
     },
     "execution_count": 15,
     "metadata": {},
     "output_type": "execute_result"
    }
   ],
   "source": [
    "hours_spent_range = pd.read_sql_query(\"\"\"\n",
    "select\n",
    "min(HourSpendOnApp) as minimun_hours_spent, max(HourSpendOnApp) as maximum_hours_spent\n",
    "from e_commerce\n",
    "where HourSpendOnApp != \"\" and HourSpendOnApp != 0\n",
    "\"\"\", conn)\n",
    "\n",
    "hours_spent_range.style.hide_index()"
   ]
  },
  {
   "cell_type": "code",
   "execution_count": 16,
   "id": "b440c04b",
   "metadata": {},
   "outputs": [
    {
     "data": {
      "text/html": [
       "<style  type=\"text/css\" >\n",
       "</style><table id=\"T_f3530017_5f85_11ed_b393_c1c2f45ca2fa\" ><thead>    <tr>        <th class=\"col_heading level0 col0\" >hours_category</th>        <th class=\"col_heading level0 col1\" >proportion</th>    </tr></thead><tbody>\n",
       "                <tr>\n",
       "                                <td id=\"T_f3530017_5f85_11ed_b393_c1c2f45ca2farow0_col0\" class=\"data row0 col0\" >0</td>\n",
       "                        <td id=\"T_f3530017_5f85_11ed_b393_c1c2f45ca2farow0_col1\" class=\"data row0 col1\" >0.023300</td>\n",
       "            </tr>\n",
       "            <tr>\n",
       "                                <td id=\"T_f3530017_5f85_11ed_b393_c1c2f45ca2farow1_col0\" class=\"data row1 col0\" >1</td>\n",
       "                        <td id=\"T_f3530017_5f85_11ed_b393_c1c2f45ca2farow1_col1\" class=\"data row1 col1\" >0.628900</td>\n",
       "            </tr>\n",
       "            <tr>\n",
       "                                <td id=\"T_f3530017_5f85_11ed_b393_c1c2f45ca2farow2_col0\" class=\"data row2 col0\" >2</td>\n",
       "                        <td id=\"T_f3530017_5f85_11ed_b393_c1c2f45ca2farow2_col1\" class=\"data row2 col1\" >25.017500</td>\n",
       "            </tr>\n",
       "            <tr>\n",
       "                                <td id=\"T_f3530017_5f85_11ed_b393_c1c2f45ca2farow3_col0\" class=\"data row3 col0\" >3</td>\n",
       "                        <td id=\"T_f3530017_5f85_11ed_b393_c1c2f45ca2farow3_col1\" class=\"data row3 col1\" >47.053300</td>\n",
       "            </tr>\n",
       "            <tr>\n",
       "                                <td id=\"T_f3530017_5f85_11ed_b393_c1c2f45ca2farow4_col0\" class=\"data row4 col0\" >4</td>\n",
       "                        <td id=\"T_f3530017_5f85_11ed_b393_c1c2f45ca2farow4_col1\" class=\"data row4 col1\" >21.267200</td>\n",
       "            </tr>\n",
       "            <tr>\n",
       "                                <td id=\"T_f3530017_5f85_11ed_b393_c1c2f45ca2farow5_col0\" class=\"data row5 col0\" >5</td>\n",
       "                        <td id=\"T_f3530017_5f85_11ed_b393_c1c2f45ca2farow5_col1\" class=\"data row5 col1\" >0.069900</td>\n",
       "            </tr>\n",
       "    </tbody></table>"
      ],
      "text/plain": [
       "<pandas.io.formats.style.Styler at 0x8ebc880>"
      ]
     },
     "execution_count": 16,
     "metadata": {},
     "output_type": "execute_result"
    }
   ],
   "source": [
    "hours_spent_distribution = pd.read_sql_query(\"\"\"\n",
    "select\n",
    "HourSpendOnApp as hours_category, (count(*)/4293)*100 as proportion\n",
    "from e_commerce\n",
    "where HourSpendOnApp != \"\"\n",
    "group by hours_category\n",
    "order by hours_category\n",
    "\"\"\", conn)\n",
    "\n",
    "hours_spent_distribution.style.hide_index()"
   ]
  },
  {
   "cell_type": "code",
   "execution_count": 17,
   "id": "fea2fb7b",
   "metadata": {},
   "outputs": [
    {
     "data": {
      "text/html": [
       "<style  type=\"text/css\" >\n",
       "</style><table id=\"T_f356e43f_5f85_11ed_b8fa_c1c2f45ca2fa\" ><thead>    <tr>        <th class=\"col_heading level0 col0\" >devices_registered</th>        <th class=\"col_heading level0 col1\" >proportion</th>    </tr></thead><tbody>\n",
       "                <tr>\n",
       "                                <td id=\"T_f356e43f_5f85_11ed_b8fa_c1c2f45ca2farow0_col0\" class=\"data row0 col0\" >1</td>\n",
       "                        <td id=\"T_f356e43f_5f85_11ed_b8fa_c1c2f45ca2farow0_col1\" class=\"data row0 col1\" >4.123000</td>\n",
       "            </tr>\n",
       "            <tr>\n",
       "                                <td id=\"T_f356e43f_5f85_11ed_b8fa_c1c2f45ca2farow1_col0\" class=\"data row1 col0\" >2</td>\n",
       "                        <td id=\"T_f356e43f_5f85_11ed_b8fa_c1c2f45ca2farow1_col1\" class=\"data row1 col1\" >5.287700</td>\n",
       "            </tr>\n",
       "            <tr>\n",
       "                                <td id=\"T_f356e43f_5f85_11ed_b8fa_c1c2f45ca2farow2_col0\" class=\"data row2 col0\" >3</td>\n",
       "                        <td id=\"T_f356e43f_5f85_11ed_b8fa_c1c2f45ca2farow2_col1\" class=\"data row2 col1\" >30.118800</td>\n",
       "            </tr>\n",
       "            <tr>\n",
       "                                <td id=\"T_f356e43f_5f85_11ed_b8fa_c1c2f45ca2farow3_col0\" class=\"data row3 col0\" >4</td>\n",
       "                        <td id=\"T_f356e43f_5f85_11ed_b8fa_c1c2f45ca2farow3_col1\" class=\"data row3 col1\" >42.138400</td>\n",
       "            </tr>\n",
       "            <tr>\n",
       "                                <td id=\"T_f356e43f_5f85_11ed_b8fa_c1c2f45ca2farow4_col0\" class=\"data row4 col0\" >5</td>\n",
       "                        <td id=\"T_f356e43f_5f85_11ed_b8fa_c1c2f45ca2farow4_col1\" class=\"data row4 col1\" >15.304000</td>\n",
       "            </tr>\n",
       "            <tr>\n",
       "                                <td id=\"T_f356e43f_5f85_11ed_b8fa_c1c2f45ca2farow5_col0\" class=\"data row5 col0\" >6</td>\n",
       "                        <td id=\"T_f356e43f_5f85_11ed_b8fa_c1c2f45ca2farow5_col1\" class=\"data row5 col1\" >3.028200</td>\n",
       "            </tr>\n",
       "    </tbody></table>"
      ],
      "text/plain": [
       "<pandas.io.formats.style.Styler at 0x8ebcbc8>"
      ]
     },
     "execution_count": 17,
     "metadata": {},
     "output_type": "execute_result"
    }
   ],
   "source": [
    "count_by_devices_registred = pd.read_sql_query(\"\"\"\n",
    "select\n",
    "NumberOfDeviceRegistered as devices_registered, (count(*)/4293)*100 as proportion\n",
    "from e_commerce\n",
    "group by devices_registered\n",
    "order by devices_registered\n",
    "\"\"\", conn)\n",
    "\n",
    "count_by_devices_registred.style.hide_index()"
   ]
  },
  {
   "cell_type": "code",
   "execution_count": 18,
   "id": "b775dddf",
   "metadata": {},
   "outputs": [
    {
     "data": {
      "text/html": [
       "<style  type=\"text/css\" >\n",
       "</style><table id=\"T_f35aeef1_5f85_11ed_80d0_c1c2f45ca2fa\" ><thead>    <tr>        <th class=\"col_heading level0 col0\" >satisfaction_score</th>        <th class=\"col_heading level0 col1\" >proportion</th>    </tr></thead><tbody>\n",
       "                <tr>\n",
       "                                <td id=\"T_f35aeef1_5f85_11ed_80d0_c1c2f45ca2farow0_col0\" class=\"data row0 col0\" >1</td>\n",
       "                        <td id=\"T_f35aeef1_5f85_11ed_80d0_c1c2f45ca2farow0_col1\" class=\"data row0 col1\" >20.754700</td>\n",
       "            </tr>\n",
       "            <tr>\n",
       "                                <td id=\"T_f35aeef1_5f85_11ed_80d0_c1c2f45ca2farow1_col0\" class=\"data row1 col0\" >2</td>\n",
       "                        <td id=\"T_f35aeef1_5f85_11ed_80d0_c1c2f45ca2farow1_col1\" class=\"data row1 col1\" >10.295800</td>\n",
       "            </tr>\n",
       "            <tr>\n",
       "                                <td id=\"T_f35aeef1_5f85_11ed_80d0_c1c2f45ca2farow2_col0\" class=\"data row2 col0\" >3</td>\n",
       "                        <td id=\"T_f35aeef1_5f85_11ed_80d0_c1c2f45ca2farow2_col1\" class=\"data row2 col1\" >30.375000</td>\n",
       "            </tr>\n",
       "            <tr>\n",
       "                                <td id=\"T_f35aeef1_5f85_11ed_80d0_c1c2f45ca2farow3_col0\" class=\"data row3 col0\" >4</td>\n",
       "                        <td id=\"T_f35aeef1_5f85_11ed_80d0_c1c2f45ca2farow3_col1\" class=\"data row3 col1\" >18.914500</td>\n",
       "            </tr>\n",
       "            <tr>\n",
       "                                <td id=\"T_f35aeef1_5f85_11ed_80d0_c1c2f45ca2farow4_col0\" class=\"data row4 col0\" >5</td>\n",
       "                        <td id=\"T_f35aeef1_5f85_11ed_80d0_c1c2f45ca2farow4_col1\" class=\"data row4 col1\" >19.659900</td>\n",
       "            </tr>\n",
       "    </tbody></table>"
      ],
      "text/plain": [
       "<pandas.io.formats.style.Styler at 0x8ebcf88>"
      ]
     },
     "execution_count": 18,
     "metadata": {},
     "output_type": "execute_result"
    }
   ],
   "source": [
    "count_by_satisfaction_score = pd.read_sql_query(\"\"\"\n",
    "select\n",
    "SatisfactionScore as satisfaction_score, (count(*)/4293)*100 as proportion\n",
    "from e_commerce\n",
    "group by satisfaction_score\n",
    "order by satisfaction_score\n",
    "\"\"\", conn)\n",
    "\n",
    "count_by_satisfaction_score.style.hide_index()"
   ]
  },
  {
   "cell_type": "code",
   "execution_count": 19,
   "id": "6a53b7c2",
   "metadata": {},
   "outputs": [
    {
     "data": {
      "text/html": [
       "<style  type=\"text/css\" >\n",
       "</style><table id=\"T_f3600fd3_5f85_11ed_a97e_c1c2f45ca2fa\" ><thead>    <tr>        <th class=\"col_heading level0 col0\" >complaints</th>        <th class=\"col_heading level0 col1\" >count</th>    </tr></thead><tbody>\n",
       "                <tr>\n",
       "                                <td id=\"T_f3600fd3_5f85_11ed_a97e_c1c2f45ca2farow0_col0\" class=\"data row0 col0\" >0</td>\n",
       "                        <td id=\"T_f3600fd3_5f85_11ed_a97e_c1c2f45ca2farow0_col1\" class=\"data row0 col1\" >3090</td>\n",
       "            </tr>\n",
       "            <tr>\n",
       "                                <td id=\"T_f3600fd3_5f85_11ed_a97e_c1c2f45ca2farow1_col0\" class=\"data row1 col0\" >1</td>\n",
       "                        <td id=\"T_f3600fd3_5f85_11ed_a97e_c1c2f45ca2farow1_col1\" class=\"data row1 col1\" >1203</td>\n",
       "            </tr>\n",
       "    </tbody></table>"
      ],
      "text/plain": [
       "<pandas.io.formats.style.Styler at 0x8ebcb20>"
      ]
     },
     "execution_count": 19,
     "metadata": {},
     "output_type": "execute_result"
    }
   ],
   "source": [
    "count_of_complaints = pd.read_sql_query(\"\"\"\n",
    "select\n",
    "Complain as complaints, count(Complain) as count\n",
    "from e_commerce\n",
    "group by complaints\n",
    "order by complaints\n",
    "\"\"\", conn)\n",
    "\n",
    "count_of_complaints.style.hide_index()"
   ]
  },
  {
   "cell_type": "code",
   "execution_count": 20,
   "id": "30b38293",
   "metadata": {},
   "outputs": [
    {
     "data": {
      "text/html": [
       "<style  type=\"text/css\" >\n",
       "</style><table id=\"T_f364b9c9_5f85_11ed_88a7_c1c2f45ca2fa\" ><thead>    <tr>        <th class=\"col_heading level0 col0\" >minimum_hike</th>        <th class=\"col_heading level0 col1\" >maximum_hike</th>    </tr></thead><tbody>\n",
       "                <tr>\n",
       "                                <td id=\"T_f364b9c9_5f85_11ed_88a7_c1c2f45ca2farow0_col0\" class=\"data row0 col0\" >11</td>\n",
       "                        <td id=\"T_f364b9c9_5f85_11ed_88a7_c1c2f45ca2farow0_col1\" class=\"data row0 col1\" >26</td>\n",
       "            </tr>\n",
       "    </tbody></table>"
      ],
      "text/plain": [
       "<pandas.io.formats.style.Styler at 0x8ebc478>"
      ]
     },
     "execution_count": 20,
     "metadata": {},
     "output_type": "execute_result"
    }
   ],
   "source": [
    "range_of_purchase_hikes = pd.read_sql_query(\"\"\"\n",
    "select\n",
    "min(OrderAmountHikeFromlastYear) as minimum_hike, max(OrderAmountHikeFromlastYear) as maximum_hike\n",
    "from e_commerce\n",
    "\"\"\", conn)\n",
    "\n",
    "range_of_purchase_hikes.style.hide_index()"
   ]
  },
  {
   "cell_type": "code",
   "execution_count": 21,
   "id": "86ca988f",
   "metadata": {},
   "outputs": [
    {
     "data": {
      "text/html": [
       "<style  type=\"text/css\" >\n",
       "</style><table id=\"T_f36ad21b_5f85_11ed_9743_c1c2f45ca2fa\" ><thead>    <tr>        <th class=\"col_heading level0 col0\" >hike_category</th>        <th class=\"col_heading level0 col1\" >proportion</th>    </tr></thead><tbody>\n",
       "                <tr>\n",
       "                                <td id=\"T_f36ad21b_5f85_11ed_9743_c1c2f45ca2farow0_col0\" class=\"data row0 col0\" >10%-15%</td>\n",
       "                        <td id=\"T_f36ad21b_5f85_11ed_9743_c1c2f45ca2farow0_col1\" class=\"data row0 col1\" >59.212700</td>\n",
       "            </tr>\n",
       "            <tr>\n",
       "                                <td id=\"T_f36ad21b_5f85_11ed_9743_c1c2f45ca2farow1_col0\" class=\"data row1 col0\" >15%-20%</td>\n",
       "                        <td id=\"T_f36ad21b_5f85_11ed_9743_c1c2f45ca2farow1_col1\" class=\"data row1 col1\" >28.022400</td>\n",
       "            </tr>\n",
       "            <tr>\n",
       "                                <td id=\"T_f36ad21b_5f85_11ed_9743_c1c2f45ca2farow2_col0\" class=\"data row2 col0\" >20%-25%</td>\n",
       "                        <td id=\"T_f36ad21b_5f85_11ed_9743_c1c2f45ca2farow2_col1\" class=\"data row2 col1\" >12.229200</td>\n",
       "            </tr>\n",
       "            <tr>\n",
       "                                <td id=\"T_f36ad21b_5f85_11ed_9743_c1c2f45ca2farow3_col0\" class=\"data row3 col0\" >25%<</td>\n",
       "                        <td id=\"T_f36ad21b_5f85_11ed_9743_c1c2f45ca2farow3_col1\" class=\"data row3 col1\" >0.535800</td>\n",
       "            </tr>\n",
       "    </tbody></table>"
      ],
      "text/plain": [
       "<pandas.io.formats.style.Styler at 0x626e280>"
      ]
     },
     "execution_count": 21,
     "metadata": {},
     "output_type": "execute_result"
    }
   ],
   "source": [
    "purchase_hikes_categories = pd.read_sql_query(\"\"\"\n",
    "select\n",
    "case\n",
    "when OrderAmountHikeFromlastYear between 10 and 15 then \"10%-15%\"\n",
    "when OrderAmountHikeFromlastYear between 16 and 20 then \"15%-20%\"\n",
    "when OrderAmountHikeFromlastYear between 20 and 25 then \"20%-25%\"\n",
    "else \"25%<\" end as hike_category,\n",
    "(count(*)/4293)*100 as proportion\n",
    "from e_commerce\n",
    "group by hike_category\n",
    "order by hike_category\n",
    "\"\"\", conn)\n",
    "\n",
    "purchase_hikes_categories.style.hide_index()"
   ]
  },
  {
   "cell_type": "code",
   "execution_count": 22,
   "id": "551a5b0d",
   "metadata": {},
   "outputs": [
    {
     "data": {
      "text/html": [
       "<style  type=\"text/css\" >\n",
       "</style><table id=\"T_f36e5679_5f85_11ed_a43c_c1c2f45ca2fa\" ><thead>    <tr>        <th class=\"col_heading level0 col0\" >coupons_used</th>        <th class=\"col_heading level0 col1\" >proportion</th>    </tr></thead><tbody>\n",
       "                <tr>\n",
       "                                <td id=\"T_f36e5679_5f85_11ed_a43c_c1c2f45ca2farow0_col0\" class=\"data row0 col0\" >0</td>\n",
       "                        <td id=\"T_f36e5679_5f85_11ed_a43c_c1c2f45ca2farow0_col1\" class=\"data row0 col1\" >19.799700</td>\n",
       "            </tr>\n",
       "            <tr>\n",
       "                                <td id=\"T_f36e5679_5f85_11ed_a43c_c1c2f45ca2farow1_col0\" class=\"data row1 col0\" >1</td>\n",
       "                        <td id=\"T_f36e5679_5f85_11ed_a43c_c1c2f45ca2farow1_col1\" class=\"data row1 col1\" >40.554400</td>\n",
       "            </tr>\n",
       "            <tr>\n",
       "                                <td id=\"T_f36e5679_5f85_11ed_a43c_c1c2f45ca2farow2_col0\" class=\"data row2 col0\" >2</td>\n",
       "                        <td id=\"T_f36e5679_5f85_11ed_a43c_c1c2f45ca2farow2_col1\" class=\"data row2 col1\" >24.318700</td>\n",
       "            </tr>\n",
       "            <tr>\n",
       "                                <td id=\"T_f36e5679_5f85_11ed_a43c_c1c2f45ca2farow3_col0\" class=\"data row3 col0\" >3</td>\n",
       "                        <td id=\"T_f36e5679_5f85_11ed_a43c_c1c2f45ca2farow3_col1\" class=\"data row3 col1\" >5.730300</td>\n",
       "            </tr>\n",
       "            <tr>\n",
       "                                <td id=\"T_f36e5679_5f85_11ed_a43c_c1c2f45ca2farow4_col0\" class=\"data row4 col0\" >4</td>\n",
       "                        <td id=\"T_f36e5679_5f85_11ed_a43c_c1c2f45ca2farow4_col1\" class=\"data row4 col1\" >3.167900</td>\n",
       "            </tr>\n",
       "            <tr>\n",
       "                                <td id=\"T_f36e5679_5f85_11ed_a43c_c1c2f45ca2farow5_col0\" class=\"data row5 col0\" >5</td>\n",
       "                        <td id=\"T_f36e5679_5f85_11ed_a43c_c1c2f45ca2farow5_col1\" class=\"data row5 col1\" >2.096400</td>\n",
       "            </tr>\n",
       "            <tr>\n",
       "                                <td id=\"T_f36e5679_5f85_11ed_a43c_c1c2f45ca2farow6_col0\" class=\"data row6 col0\" >6</td>\n",
       "                        <td id=\"T_f36e5679_5f85_11ed_a43c_c1c2f45ca2farow6_col1\" class=\"data row6 col1\" >1.747000</td>\n",
       "            </tr>\n",
       "            <tr>\n",
       "                                <td id=\"T_f36e5679_5f85_11ed_a43c_c1c2f45ca2farow7_col0\" class=\"data row7 col0\" >7</td>\n",
       "                        <td id=\"T_f36e5679_5f85_11ed_a43c_c1c2f45ca2farow7_col1\" class=\"data row7 col1\" >1.374300</td>\n",
       "            </tr>\n",
       "            <tr>\n",
       "                                <td id=\"T_f36e5679_5f85_11ed_a43c_c1c2f45ca2farow8_col0\" class=\"data row8 col0\" >8</td>\n",
       "                        <td id=\"T_f36e5679_5f85_11ed_a43c_c1c2f45ca2farow8_col1\" class=\"data row8 col1\" >0.628900</td>\n",
       "            </tr>\n",
       "            <tr>\n",
       "                                <td id=\"T_f36e5679_5f85_11ed_a43c_c1c2f45ca2farow9_col0\" class=\"data row9 col0\" >9</td>\n",
       "                        <td id=\"T_f36e5679_5f85_11ed_a43c_c1c2f45ca2farow9_col1\" class=\"data row9 col1\" >0.139800</td>\n",
       "            </tr>\n",
       "            <tr>\n",
       "                                <td id=\"T_f36e5679_5f85_11ed_a43c_c1c2f45ca2farow10_col0\" class=\"data row10 col0\" >10</td>\n",
       "                        <td id=\"T_f36e5679_5f85_11ed_a43c_c1c2f45ca2farow10_col1\" class=\"data row10 col1\" >0.139800</td>\n",
       "            </tr>\n",
       "            <tr>\n",
       "                                <td id=\"T_f36e5679_5f85_11ed_a43c_c1c2f45ca2farow11_col0\" class=\"data row11 col0\" >11</td>\n",
       "                        <td id=\"T_f36e5679_5f85_11ed_a43c_c1c2f45ca2farow11_col1\" class=\"data row11 col1\" >0.116500</td>\n",
       "            </tr>\n",
       "            <tr>\n",
       "                                <td id=\"T_f36e5679_5f85_11ed_a43c_c1c2f45ca2farow12_col0\" class=\"data row12 col0\" >12</td>\n",
       "                        <td id=\"T_f36e5679_5f85_11ed_a43c_c1c2f45ca2farow12_col1\" class=\"data row12 col1\" >0.093200</td>\n",
       "            </tr>\n",
       "            <tr>\n",
       "                                <td id=\"T_f36e5679_5f85_11ed_a43c_c1c2f45ca2farow13_col0\" class=\"data row13 col0\" >13</td>\n",
       "                        <td id=\"T_f36e5679_5f85_11ed_a43c_c1c2f45ca2farow13_col1\" class=\"data row13 col1\" >0.046600</td>\n",
       "            </tr>\n",
       "            <tr>\n",
       "                                <td id=\"T_f36e5679_5f85_11ed_a43c_c1c2f45ca2farow14_col0\" class=\"data row14 col0\" >15</td>\n",
       "                        <td id=\"T_f36e5679_5f85_11ed_a43c_c1c2f45ca2farow14_col1\" class=\"data row14 col1\" >0.023300</td>\n",
       "            </tr>\n",
       "            <tr>\n",
       "                                <td id=\"T_f36e5679_5f85_11ed_a43c_c1c2f45ca2farow15_col0\" class=\"data row15 col0\" >16</td>\n",
       "                        <td id=\"T_f36e5679_5f85_11ed_a43c_c1c2f45ca2farow15_col1\" class=\"data row15 col1\" >0.023300</td>\n",
       "            </tr>\n",
       "    </tbody></table>"
      ],
      "text/plain": [
       "<pandas.io.formats.style.Styler at 0x8e341d8>"
      ]
     },
     "execution_count": 22,
     "metadata": {},
     "output_type": "execute_result"
    }
   ],
   "source": [
    "coupons_used_count = pd.read_sql_query(\"\"\"\n",
    "select\n",
    "CouponUsed as coupons_used, (count(*)/4293)*100 as proportion\n",
    "from e_commerce\n",
    "group by coupons_used\n",
    "order by coupons_used\n",
    "\"\"\", conn)\n",
    "\n",
    "coupons_used_count.style.hide_index()"
   ]
  },
  {
   "cell_type": "code",
   "execution_count": 23,
   "id": "32b0b3d8",
   "metadata": {},
   "outputs": [
    {
     "data": {
      "text/html": [
       "<style  type=\"text/css\" >\n",
       "</style><table id=\"T_f37346f8_5f85_11ed_bbe4_c1c2f45ca2fa\" ><thead>    <tr>        <th class=\"col_heading level0 col0\" >number_of_orders</th>        <th class=\"col_heading level0 col1\" >proportion</th>    </tr></thead><tbody>\n",
       "                <tr>\n",
       "                                <td id=\"T_f37346f8_5f85_11ed_bbe4_c1c2f45ca2farow0_col0\" class=\"data row0 col0\" >1</td>\n",
       "                        <td id=\"T_f37346f8_5f85_11ed_bbe4_c1c2f45ca2farow0_col1\" class=\"data row0 col1\" >33.706000</td>\n",
       "            </tr>\n",
       "            <tr>\n",
       "                                <td id=\"T_f37346f8_5f85_11ed_bbe4_c1c2f45ca2farow1_col0\" class=\"data row1 col0\" >2</td>\n",
       "                        <td id=\"T_f37346f8_5f85_11ed_bbe4_c1c2f45ca2farow1_col1\" class=\"data row1 col1\" >39.855600</td>\n",
       "            </tr>\n",
       "            <tr>\n",
       "                                <td id=\"T_f37346f8_5f85_11ed_bbe4_c1c2f45ca2farow2_col0\" class=\"data row2 col0\" >3</td>\n",
       "                        <td id=\"T_f37346f8_5f85_11ed_bbe4_c1c2f45ca2farow2_col1\" class=\"data row2 col1\" >7.244400</td>\n",
       "            </tr>\n",
       "            <tr>\n",
       "                                <td id=\"T_f37346f8_5f85_11ed_bbe4_c1c2f45ca2farow3_col0\" class=\"data row3 col0\" >4</td>\n",
       "                        <td id=\"T_f37346f8_5f85_11ed_bbe4_c1c2f45ca2farow3_col1\" class=\"data row3 col1\" >3.331000</td>\n",
       "            </tr>\n",
       "            <tr>\n",
       "                                <td id=\"T_f37346f8_5f85_11ed_bbe4_c1c2f45ca2farow4_col0\" class=\"data row4 col0\" >5</td>\n",
       "                        <td id=\"T_f37346f8_5f85_11ed_bbe4_c1c2f45ca2farow4_col1\" class=\"data row4 col1\" >3.051500</td>\n",
       "            </tr>\n",
       "            <tr>\n",
       "                                <td id=\"T_f37346f8_5f85_11ed_bbe4_c1c2f45ca2farow5_col0\" class=\"data row5 col0\" >6</td>\n",
       "                        <td id=\"T_f37346f8_5f85_11ed_bbe4_c1c2f45ca2farow5_col1\" class=\"data row5 col1\" >2.469100</td>\n",
       "            </tr>\n",
       "            <tr>\n",
       "                                <td id=\"T_f37346f8_5f85_11ed_bbe4_c1c2f45ca2farow6_col0\" class=\"data row6 col0\" >7</td>\n",
       "                        <td id=\"T_f37346f8_5f85_11ed_bbe4_c1c2f45ca2farow6_col1\" class=\"data row6 col1\" >3.750300</td>\n",
       "            </tr>\n",
       "            <tr>\n",
       "                                <td id=\"T_f37346f8_5f85_11ed_bbe4_c1c2f45ca2farow7_col0\" class=\"data row7 col0\" >8</td>\n",
       "                        <td id=\"T_f37346f8_5f85_11ed_bbe4_c1c2f45ca2farow7_col1\" class=\"data row7 col1\" >3.098100</td>\n",
       "            </tr>\n",
       "            <tr>\n",
       "                                <td id=\"T_f37346f8_5f85_11ed_bbe4_c1c2f45ca2farow8_col0\" class=\"data row8 col0\" >9</td>\n",
       "                        <td id=\"T_f37346f8_5f85_11ed_bbe4_c1c2f45ca2farow8_col1\" class=\"data row8 col1\" >0.978300</td>\n",
       "            </tr>\n",
       "            <tr>\n",
       "                                <td id=\"T_f37346f8_5f85_11ed_bbe4_c1c2f45ca2farow9_col0\" class=\"data row9 col0\" >10</td>\n",
       "                        <td id=\"T_f37346f8_5f85_11ed_bbe4_c1c2f45ca2farow9_col1\" class=\"data row9 col1\" >0.559000</td>\n",
       "            </tr>\n",
       "            <tr>\n",
       "                                <td id=\"T_f37346f8_5f85_11ed_bbe4_c1c2f45ca2farow10_col0\" class=\"data row10 col0\" >11</td>\n",
       "                        <td id=\"T_f37346f8_5f85_11ed_bbe4_c1c2f45ca2farow10_col1\" class=\"data row10 col1\" >0.582300</td>\n",
       "            </tr>\n",
       "            <tr>\n",
       "                                <td id=\"T_f37346f8_5f85_11ed_bbe4_c1c2f45ca2farow11_col0\" class=\"data row11 col0\" >12</td>\n",
       "                        <td id=\"T_f37346f8_5f85_11ed_bbe4_c1c2f45ca2farow11_col1\" class=\"data row11 col1\" >0.605600</td>\n",
       "            </tr>\n",
       "            <tr>\n",
       "                                <td id=\"T_f37346f8_5f85_11ed_bbe4_c1c2f45ca2farow12_col0\" class=\"data row12 col0\" >13</td>\n",
       "                        <td id=\"T_f37346f8_5f85_11ed_bbe4_c1c2f45ca2farow12_col1\" class=\"data row12 col1\" >0.256200</td>\n",
       "            </tr>\n",
       "            <tr>\n",
       "                                <td id=\"T_f37346f8_5f85_11ed_bbe4_c1c2f45ca2farow13_col0\" class=\"data row13 col0\" >14</td>\n",
       "                        <td id=\"T_f37346f8_5f85_11ed_bbe4_c1c2f45ca2farow13_col1\" class=\"data row13 col1\" >0.209600</td>\n",
       "            </tr>\n",
       "            <tr>\n",
       "                                <td id=\"T_f37346f8_5f85_11ed_bbe4_c1c2f45ca2farow14_col0\" class=\"data row14 col0\" >15</td>\n",
       "                        <td id=\"T_f37346f8_5f85_11ed_bbe4_c1c2f45ca2farow14_col1\" class=\"data row14 col1\" >0.209600</td>\n",
       "            </tr>\n",
       "            <tr>\n",
       "                                <td id=\"T_f37346f8_5f85_11ed_bbe4_c1c2f45ca2farow15_col0\" class=\"data row15 col0\" >16</td>\n",
       "                        <td id=\"T_f37346f8_5f85_11ed_bbe4_c1c2f45ca2farow15_col1\" class=\"data row15 col1\" >0.093200</td>\n",
       "            </tr>\n",
       "    </tbody></table>"
      ],
      "text/plain": [
       "<pandas.io.formats.style.Styler at 0x8e1da60>"
      ]
     },
     "execution_count": 23,
     "metadata": {},
     "output_type": "execute_result"
    }
   ],
   "source": [
    "order_count_proportions = pd.read_sql_query(\"\"\"\n",
    "select\n",
    "OrderCount as number_of_orders, (count(*)/4293)*100 as proportion\n",
    "from e_commerce\n",
    "group by number_of_orders\n",
    "order by number_of_orders\n",
    "\"\"\", conn)\n",
    "\n",
    "order_count_proportions.style.hide_index()"
   ]
  },
  {
   "cell_type": "code",
   "execution_count": 24,
   "id": "33a6b561",
   "metadata": {},
   "outputs": [
    {
     "data": {
      "text/html": [
       "<style  type=\"text/css\" >\n",
       "</style><table id=\"T_f377f693_5f85_11ed_8b1a_c1c2f45ca2fa\" ><thead>    <tr>        <th class=\"col_heading level0 col0\" >minimum_cashback</th>        <th class=\"col_heading level0 col1\" >maximum_cashback</th>    </tr></thead><tbody>\n",
       "                <tr>\n",
       "                                <td id=\"T_f377f693_5f85_11ed_8b1a_c1c2f45ca2farow0_col0\" class=\"data row0 col0\" >12</td>\n",
       "                        <td id=\"T_f377f693_5f85_11ed_8b1a_c1c2f45ca2farow0_col1\" class=\"data row0 col1\" >325</td>\n",
       "            </tr>\n",
       "    </tbody></table>"
      ],
      "text/plain": [
       "<pandas.io.formats.style.Styler at 0x62620d0>"
      ]
     },
     "execution_count": 24,
     "metadata": {},
     "output_type": "execute_result"
    }
   ],
   "source": [
    "cashback_range = pd.read_sql_query(\"\"\"\n",
    "select\n",
    "min(CashbackAmount) as minimum_cashback, max(CashbackAmount) as maximum_cashback\n",
    "from e_commerce\n",
    "where CashbackAmount != 0\n",
    "\"\"\", conn)\n",
    "\n",
    "cashback_range.style.hide_index()"
   ]
  },
  {
   "cell_type": "code",
   "execution_count": 25,
   "id": "881c0b40",
   "metadata": {},
   "outputs": [
    {
     "data": {
      "text/html": [
       "<style  type=\"text/css\" >\n",
       "</style><table id=\"T_f37d71ea_5f85_11ed_b5c4_c1c2f45ca2fa\" ><thead>    <tr>        <th class=\"col_heading level0 col0\" >cashback_category</th>        <th class=\"col_heading level0 col1\" >proportion</th>    </tr></thead><tbody>\n",
       "                <tr>\n",
       "                                <td id=\"T_f37d71ea_5f85_11ed_b5c4_c1c2f45ca2farow0_col0\" class=\"data row0 col0\" >150-200</td>\n",
       "                        <td id=\"T_f37d71ea_5f85_11ed_b5c4_c1c2f45ca2farow0_col1\" class=\"data row0 col1\" >55.881700</td>\n",
       "            </tr>\n",
       "            <tr>\n",
       "                                <td id=\"T_f37d71ea_5f85_11ed_b5c4_c1c2f45ca2farow1_col0\" class=\"data row1 col0\" >100-150</td>\n",
       "                        <td id=\"T_f37d71ea_5f85_11ed_b5c4_c1c2f45ca2farow1_col1\" class=\"data row1 col1\" >38.551100</td>\n",
       "            </tr>\n",
       "            <tr>\n",
       "                                <td id=\"T_f37d71ea_5f85_11ed_b5c4_c1c2f45ca2farow2_col0\" class=\"data row2 col0\" >200-250</td>\n",
       "                        <td id=\"T_f37d71ea_5f85_11ed_b5c4_c1c2f45ca2farow2_col1\" class=\"data row2 col1\" >4.728600</td>\n",
       "            </tr>\n",
       "            <tr>\n",
       "                                <td id=\"T_f37d71ea_5f85_11ed_b5c4_c1c2f45ca2farow3_col0\" class=\"data row3 col0\" >300<</td>\n",
       "                        <td id=\"T_f37d71ea_5f85_11ed_b5c4_c1c2f45ca2farow3_col1\" class=\"data row3 col1\" >0.349400</td>\n",
       "            </tr>\n",
       "            <tr>\n",
       "                                <td id=\"T_f37d71ea_5f85_11ed_b5c4_c1c2f45ca2farow4_col0\" class=\"data row4 col0\" >0-50</td>\n",
       "                        <td id=\"T_f37d71ea_5f85_11ed_b5c4_c1c2f45ca2farow4_col1\" class=\"data row4 col1\" >0.232900</td>\n",
       "            </tr>\n",
       "            <tr>\n",
       "                                <td id=\"T_f37d71ea_5f85_11ed_b5c4_c1c2f45ca2farow5_col0\" class=\"data row5 col0\" >250-300</td>\n",
       "                        <td id=\"T_f37d71ea_5f85_11ed_b5c4_c1c2f45ca2farow5_col1\" class=\"data row5 col1\" >0.209600</td>\n",
       "            </tr>\n",
       "            <tr>\n",
       "                                <td id=\"T_f37d71ea_5f85_11ed_b5c4_c1c2f45ca2farow6_col0\" class=\"data row6 col0\" >50-100</td>\n",
       "                        <td id=\"T_f37d71ea_5f85_11ed_b5c4_c1c2f45ca2farow6_col1\" class=\"data row6 col1\" >0.046600</td>\n",
       "            </tr>\n",
       "    </tbody></table>"
      ],
      "text/plain": [
       "<pandas.io.formats.style.Styler at 0x8ec61d8>"
      ]
     },
     "execution_count": 25,
     "metadata": {},
     "output_type": "execute_result"
    }
   ],
   "source": [
    "cashback_categories = pd.read_sql_query(\"\"\"\n",
    "select\n",
    "case\n",
    "when CashbackAmount between 0 and 50 then \"0-50\"\n",
    "when CashbackAmount between 51 and 100 then \"50-100\"\n",
    "when CashbackAmount between 101 and 150 then \"100-150\"\n",
    "when CashbackAmount between 151 and 200 then \"150-200\"\n",
    "when CashbackAmount between 201 and 250 then \"200-250\"\n",
    "when CashbackAmount between 251 and 300 then \"250-300\"\n",
    "else \"300<\" end as cashback_category,\n",
    "(count(*)/4293)*100 as proportion\n",
    "from e_commerce\n",
    "group by cashback_category\n",
    "order by proportion desc\n",
    "\"\"\", conn)\n",
    "\n",
    "cashback_categories.style.hide_index()"
   ]
  },
  {
   "cell_type": "markdown",
   "id": "3a4c79a2",
   "metadata": {},
   "source": [
    "## City Tier - Which tier has the most tenure in avg, which tier has the biggest distance in average, which tier spends most time in the app, which tier has the highest average satistaction score, which tier has the biggest cashback amount, which tier has the biggest order hike? which tier uses more coupons? "
   ]
  },
  {
   "cell_type": "code",
   "execution_count": 39,
   "id": "66a3e57d",
   "metadata": {},
   "outputs": [
    {
     "data": {
      "text/html": [
       "<style  type=\"text/css\" >\n",
       "</style><table id=\"T_ce038d36_5f8a_11ed_9a6c_c1c2f45ca2fa\" ><thead>    <tr>        <th class=\"col_heading level0 col0\" >city</th>        <th class=\"col_heading level0 col1\" >avg_tenure</th>        <th class=\"col_heading level0 col2\" >avg_distance</th>        <th class=\"col_heading level0 col3\" >avg_hours_spent</th>        <th class=\"col_heading level0 col4\" >avg_satisfaction</th>        <th class=\"col_heading level0 col5\" >avg_cashback</th>        <th class=\"col_heading level0 col6\" >avg_hike</th>        <th class=\"col_heading level0 col7\" >avg_coupons_used</th>    </tr></thead><tbody>\n",
       "                <tr>\n",
       "                                <td id=\"T_ce038d36_5f8a_11ed_9a6c_c1c2f45ca2farow0_col0\" class=\"data row0 col0\" >1</td>\n",
       "                        <td id=\"T_ce038d36_5f8a_11ed_9a6c_c1c2f45ca2farow0_col1\" class=\"data row0 col1\" >8.899804</td>\n",
       "                        <td id=\"T_ce038d36_5f8a_11ed_9a6c_c1c2f45ca2farow0_col2\" class=\"data row0 col2\" >15.718200</td>\n",
       "                        <td id=\"T_ce038d36_5f8a_11ed_9a6c_c1c2f45ca2farow0_col3\" class=\"data row0 col3\" >2.798043</td>\n",
       "                        <td id=\"T_ce038d36_5f8a_11ed_9a6c_c1c2f45ca2farow0_col4\" class=\"data row0 col4\" >3.058700</td>\n",
       "                        <td id=\"T_ce038d36_5f8a_11ed_9a6c_c1c2f45ca2farow0_col5\" class=\"data row0 col5\" >159.278300</td>\n",
       "                        <td id=\"T_ce038d36_5f8a_11ed_9a6c_c1c2f45ca2farow0_col6\" class=\"data row0 col6\" >15.802300</td>\n",
       "                        <td id=\"T_ce038d36_5f8a_11ed_9a6c_c1c2f45ca2farow0_col7\" class=\"data row0 col7\" >1.661800</td>\n",
       "            </tr>\n",
       "            <tr>\n",
       "                                <td id=\"T_ce038d36_5f8a_11ed_9a6c_c1c2f45ca2farow1_col0\" class=\"data row1 col0\" >2</td>\n",
       "                        <td id=\"T_ce038d36_5f8a_11ed_9a6c_c1c2f45ca2farow1_col1\" class=\"data row1 col1\" >8.818750</td>\n",
       "                        <td id=\"T_ce038d36_5f8a_11ed_9a6c_c1c2f45ca2farow1_col2\" class=\"data row1 col2\" >13.812500</td>\n",
       "                        <td id=\"T_ce038d36_5f8a_11ed_9a6c_c1c2f45ca2farow1_col3\" class=\"data row1 col3\" >2.625000</td>\n",
       "                        <td id=\"T_ce038d36_5f8a_11ed_9a6c_c1c2f45ca2farow1_col4\" class=\"data row1 col4\" >3.181300</td>\n",
       "                        <td id=\"T_ce038d36_5f8a_11ed_9a6c_c1c2f45ca2farow1_col5\" class=\"data row1 col5\" >156.843800</td>\n",
       "                        <td id=\"T_ce038d36_5f8a_11ed_9a6c_c1c2f45ca2farow1_col6\" class=\"data row1 col6\" >15.006300</td>\n",
       "                        <td id=\"T_ce038d36_5f8a_11ed_9a6c_c1c2f45ca2farow1_col7\" class=\"data row1 col7\" >1.481300</td>\n",
       "            </tr>\n",
       "            <tr>\n",
       "                                <td id=\"T_ce038d36_5f8a_11ed_9a6c_c1c2f45ca2farow2_col0\" class=\"data row2 col0\" >3</td>\n",
       "                        <td id=\"T_ce038d36_5f8a_11ed_9a6c_c1c2f45ca2farow2_col1\" class=\"data row2 col1\" >7.965753</td>\n",
       "                        <td id=\"T_ce038d36_5f8a_11ed_9a6c_c1c2f45ca2farow2_col2\" class=\"data row2 col2\" >15.809000</td>\n",
       "                        <td id=\"T_ce038d36_5f8a_11ed_9a6c_c1c2f45ca2farow2_col3\" class=\"data row2 col3\" >2.802131</td>\n",
       "                        <td id=\"T_ce038d36_5f8a_11ed_9a6c_c1c2f45ca2farow2_col4\" class=\"data row2 col4\" >3.025900</td>\n",
       "                        <td id=\"T_ce038d36_5f8a_11ed_9a6c_c1c2f45ca2farow2_col5\" class=\"data row2 col5\" >167.818900</td>\n",
       "                        <td id=\"T_ce038d36_5f8a_11ed_9a6c_c1c2f45ca2farow2_col6\" class=\"data row2 col6\" >15.606500</td>\n",
       "                        <td id=\"T_ce038d36_5f8a_11ed_9a6c_c1c2f45ca2farow2_col7\" class=\"data row2 col7\" >1.715400</td>\n",
       "            </tr>\n",
       "    </tbody></table>"
      ],
      "text/plain": [
       "<pandas.io.formats.style.Styler at 0x7bc0b8>"
      ]
     },
     "execution_count": 39,
     "metadata": {},
     "output_type": "execute_result"
    }
   ],
   "source": [
    "averages_by_city_tier = pd.read_sql_query(\"\"\"\n",
    "select\n",
    "CityTier as city,\n",
    "avg(Tenure) as avg_tenure,\n",
    "avg(WarehouseToHome) as avg_distance,\n",
    "avg(HourSpendOnApp) as avg_hours_spent,\n",
    "avg(SatisfactionScore) as avg_satisfaction,\n",
    "avg(CashbackAmount) as avg_cashback,\n",
    "avg(OrderAmountHikeFromlastYear) as avg_hike,\n",
    "avg(CouponUsed) as avg_coupons_used\n",
    "from e_commerce\n",
    "where Tenure != \"\"\n",
    "group by city\n",
    "order by city asc\n",
    "\"\"\", conn)\n",
    "\n",
    "averages_by_city_tier.style.hide_index()"
   ]
  },
  {
   "cell_type": "markdown",
   "id": "51e59039",
   "metadata": {},
   "source": [
    "## Distance - does distance have a relationship with complaints? and satisfaction score? and with cashback amount? and with number of orders? "
   ]
  },
  {
   "cell_type": "code",
   "execution_count": 43,
   "id": "ca43b089",
   "metadata": {},
   "outputs": [
    {
     "data": {
      "text/html": [
       "<style  type=\"text/css\" >\n",
       "</style><table id=\"T_b3319a67_5f8b_11ed_8087_c1c2f45ca2fa\" ><thead>    <tr>        <th class=\"col_heading level0 col0\" >distance_category</th>        <th class=\"col_heading level0 col1\" >avg_satisfaction</th>    </tr></thead><tbody>\n",
       "                <tr>\n",
       "                                <td id=\"T_b3319a67_5f8b_11ed_8087_c1c2f45ca2farow0_col0\" class=\"data row0 col0\" >10 - 20</td>\n",
       "                        <td id=\"T_b3319a67_5f8b_11ed_8087_c1c2f45ca2farow0_col1\" class=\"data row0 col1\" >3.155700</td>\n",
       "            </tr>\n",
       "            <tr>\n",
       "                                <td id=\"T_b3319a67_5f8b_11ed_8087_c1c2f45ca2farow1_col0\" class=\"data row1 col0\" >30 - 40</td>\n",
       "                        <td id=\"T_b3319a67_5f8b_11ed_8087_c1c2f45ca2farow1_col1\" class=\"data row1 col1\" >3.037500</td>\n",
       "            </tr>\n",
       "            <tr>\n",
       "                                <td id=\"T_b3319a67_5f8b_11ed_8087_c1c2f45ca2farow2_col0\" class=\"data row2 col0\" >20 - 30</td>\n",
       "                        <td id=\"T_b3319a67_5f8b_11ed_8087_c1c2f45ca2farow2_col1\" class=\"data row2 col1\" >3.032100</td>\n",
       "            </tr>\n",
       "            <tr>\n",
       "                                <td id=\"T_b3319a67_5f8b_11ed_8087_c1c2f45ca2farow3_col0\" class=\"data row3 col0\" >5 - 10</td>\n",
       "                        <td id=\"T_b3319a67_5f8b_11ed_8087_c1c2f45ca2farow3_col1\" class=\"data row3 col1\" >2.989700</td>\n",
       "            </tr>\n",
       "            <tr>\n",
       "                                <td id=\"T_b3319a67_5f8b_11ed_8087_c1c2f45ca2farow4_col0\" class=\"data row4 col0\" >100 +</td>\n",
       "                        <td id=\"T_b3319a67_5f8b_11ed_8087_c1c2f45ca2farow4_col1\" class=\"data row4 col1\" >1.000000</td>\n",
       "            </tr>\n",
       "    </tbody></table>"
      ],
      "text/plain": [
       "<pandas.io.formats.style.Styler at 0x8ec6bf8>"
      ]
     },
     "execution_count": 43,
     "metadata": {},
     "output_type": "execute_result"
    }
   ],
   "source": [
    "satisfaction_by_distance = pd.read_sql_query(\"\"\"\n",
    "SELECT\n",
    "CASE\n",
    "WHEN WarehouseToHome BETWEEN 0 AND 10 THEN '5 - 10'\n",
    "WHEN WarehouseToHome BETWEEN 11 AND 20 THEN '10 - 20'\n",
    "WHEN WarehouseToHome BETWEEN 21 AND 30 THEN '20 - 30'\n",
    "WHEN WarehouseToHome BETWEEN 31 AND 40 THEN '30 - 40'\n",
    "WHEN WarehouseToHome BETWEEN 41 AND 50 THEN '40 - 50'\n",
    "WHEN WarehouseToHome BETWEEN 51 AND 60 THEN '50 - 60'\n",
    "WHEN WarehouseToHome BETWEEN 61 AND 70 THEN '60 - 70'\n",
    "WHEN WarehouseToHome BETWEEN 71 AND 80 THEN '70 - 80'\n",
    "WHEN WarehouseToHome BETWEEN 81 AND 90 THEN '80 - 90'\n",
    "WHEN WarehouseToHome BETWEEN 91 AND 100 THEN '90 - 100'\n",
    "ELSE '100 +' END AS distance_category,\n",
    "AVG(SatisfactionScore) AS avg_satisfaction\n",
    "FROM e_commerce\n",
    "GROUP BY distance_category\n",
    "ORDER BY avg_satisfaction DESC\n",
    "\"\"\", conn)\n",
    "\n",
    "satisfaction_by_distance.style.hide_index()"
   ]
  },
  {
   "cell_type": "code",
   "execution_count": 44,
   "id": "a7d881c3",
   "metadata": {},
   "outputs": [
    {
     "data": {
      "text/html": [
       "<style  type=\"text/css\" >\n",
       "</style><table id=\"T_edd34dce_5f8b_11ed_83c9_c1c2f45ca2fa\" ><thead>    <tr>        <th class=\"col_heading level0 col0\" >distance_category</th>        <th class=\"col_heading level0 col1\" >avg_cashback</th>    </tr></thead><tbody>\n",
       "                <tr>\n",
       "                                <td id=\"T_edd34dce_5f8b_11ed_83c9_c1c2f45ca2farow0_col0\" class=\"data row0 col0\" >30 - 40</td>\n",
       "                        <td id=\"T_edd34dce_5f8b_11ed_83c9_c1c2f45ca2farow0_col1\" class=\"data row0 col1\" >161.383300</td>\n",
       "            </tr>\n",
       "            <tr>\n",
       "                                <td id=\"T_edd34dce_5f8b_11ed_83c9_c1c2f45ca2farow1_col0\" class=\"data row1 col0\" >10 - 20</td>\n",
       "                        <td id=\"T_edd34dce_5f8b_11ed_83c9_c1c2f45ca2farow1_col1\" class=\"data row1 col1\" >159.858700</td>\n",
       "            </tr>\n",
       "            <tr>\n",
       "                                <td id=\"T_edd34dce_5f8b_11ed_83c9_c1c2f45ca2farow2_col0\" class=\"data row2 col0\" >5 - 10</td>\n",
       "                        <td id=\"T_edd34dce_5f8b_11ed_83c9_c1c2f45ca2farow2_col1\" class=\"data row2 col1\" >158.989100</td>\n",
       "            </tr>\n",
       "            <tr>\n",
       "                                <td id=\"T_edd34dce_5f8b_11ed_83c9_c1c2f45ca2farow3_col0\" class=\"data row3 col0\" >20 - 30</td>\n",
       "                        <td id=\"T_edd34dce_5f8b_11ed_83c9_c1c2f45ca2farow3_col1\" class=\"data row3 col1\" >158.395300</td>\n",
       "            </tr>\n",
       "            <tr>\n",
       "                                <td id=\"T_edd34dce_5f8b_11ed_83c9_c1c2f45ca2farow4_col0\" class=\"data row4 col0\" >100 +</td>\n",
       "                        <td id=\"T_edd34dce_5f8b_11ed_83c9_c1c2f45ca2farow4_col1\" class=\"data row4 col1\" >147.500000</td>\n",
       "            </tr>\n",
       "    </tbody></table>"
      ],
      "text/plain": [
       "<pandas.io.formats.style.Styler at 0x8ec6b38>"
      ]
     },
     "execution_count": 44,
     "metadata": {},
     "output_type": "execute_result"
    }
   ],
   "source": [
    "cashback_by_distance = pd.read_sql_query(\"\"\"\n",
    "SELECT\n",
    "CASE\n",
    "WHEN WarehouseToHome BETWEEN 0 AND 10 THEN '5 - 10'\n",
    "WHEN WarehouseToHome BETWEEN 11 AND 20 THEN '10 - 20'\n",
    "WHEN WarehouseToHome BETWEEN 21 AND 30 THEN '20 - 30'\n",
    "WHEN WarehouseToHome BETWEEN 31 AND 40 THEN '30 - 40'\n",
    "WHEN WarehouseToHome BETWEEN 41 AND 50 THEN '40 - 50'\n",
    "WHEN WarehouseToHome BETWEEN 51 AND 60 THEN '50 - 60'\n",
    "WHEN WarehouseToHome BETWEEN 61 AND 70 THEN '60 - 70'\n",
    "WHEN WarehouseToHome BETWEEN 71 AND 80 THEN '70 - 80'\n",
    "WHEN WarehouseToHome BETWEEN 81 AND 90 THEN '80 - 90'\n",
    "WHEN WarehouseToHome BETWEEN 91 AND 100 THEN '90 - 100'\n",
    "ELSE '100 +' END AS distance_category,\n",
    "AVG(CashbackAmount) AS avg_cashback\n",
    "FROM e_commerce\n",
    "GROUP BY distance_category\n",
    "ORDER BY avg_cashback DESC\n",
    "\"\"\", conn)\n",
    "\n",
    "cashback_by_distance.style.hide_index()"
   ]
  },
  {
   "cell_type": "code",
   "execution_count": 45,
   "id": "ee903de5",
   "metadata": {},
   "outputs": [
    {
     "data": {
      "text/html": [
       "<style  type=\"text/css\" >\n",
       "</style><table id=\"T_67f8e3ed_5f8d_11ed_8751_c1c2f45ca2fa\" ><thead>    <tr>        <th class=\"col_heading level0 col0\" >distance_category</th>        <th class=\"col_heading level0 col1\" >avg_orders</th>    </tr></thead><tbody>\n",
       "                <tr>\n",
       "                                <td id=\"T_67f8e3ed_5f8d_11ed_8751_c1c2f45ca2farow0_col0\" class=\"data row0 col0\" >30 - 40</td>\n",
       "                        <td id=\"T_67f8e3ed_5f8d_11ed_8751_c1c2f45ca2farow0_col1\" class=\"data row0 col1\" >3.017300</td>\n",
       "            </tr>\n",
       "            <tr>\n",
       "                                <td id=\"T_67f8e3ed_5f8d_11ed_8751_c1c2f45ca2farow1_col0\" class=\"data row1 col0\" >5 - 10</td>\n",
       "                        <td id=\"T_67f8e3ed_5f8d_11ed_8751_c1c2f45ca2farow1_col1\" class=\"data row1 col1\" >2.695800</td>\n",
       "            </tr>\n",
       "            <tr>\n",
       "                                <td id=\"T_67f8e3ed_5f8d_11ed_8751_c1c2f45ca2farow2_col0\" class=\"data row2 col0\" >20 - 30</td>\n",
       "                        <td id=\"T_67f8e3ed_5f8d_11ed_8751_c1c2f45ca2farow2_col1\" class=\"data row2 col1\" >2.664800</td>\n",
       "            </tr>\n",
       "            <tr>\n",
       "                                <td id=\"T_67f8e3ed_5f8d_11ed_8751_c1c2f45ca2farow3_col0\" class=\"data row3 col0\" >10 - 20</td>\n",
       "                        <td id=\"T_67f8e3ed_5f8d_11ed_8751_c1c2f45ca2farow3_col1\" class=\"data row3 col1\" >2.617400</td>\n",
       "            </tr>\n",
       "            <tr>\n",
       "                                <td id=\"T_67f8e3ed_5f8d_11ed_8751_c1c2f45ca2farow4_col0\" class=\"data row4 col0\" >100 +</td>\n",
       "                        <td id=\"T_67f8e3ed_5f8d_11ed_8751_c1c2f45ca2farow4_col1\" class=\"data row4 col1\" >1.500000</td>\n",
       "            </tr>\n",
       "    </tbody></table>"
      ],
      "text/plain": [
       "<pandas.io.formats.style.Styler at 0x8ec63b8>"
      ]
     },
     "execution_count": 45,
     "metadata": {},
     "output_type": "execute_result"
    }
   ],
   "source": [
    "orders_by_distance = pd.read_sql_query(\"\"\"\n",
    "SELECT\n",
    "CASE\n",
    "WHEN WarehouseToHome BETWEEN 0 AND 10 THEN '5 - 10'\n",
    "WHEN WarehouseToHome BETWEEN 11 AND 20 THEN '10 - 20'\n",
    "WHEN WarehouseToHome BETWEEN 21 AND 30 THEN '20 - 30'\n",
    "WHEN WarehouseToHome BETWEEN 31 AND 40 THEN '30 - 40'\n",
    "WHEN WarehouseToHome BETWEEN 41 AND 50 THEN '40 - 50'\n",
    "WHEN WarehouseToHome BETWEEN 51 AND 60 THEN '50 - 60'\n",
    "WHEN WarehouseToHome BETWEEN 61 AND 70 THEN '60 - 70'\n",
    "WHEN WarehouseToHome BETWEEN 71 AND 80 THEN '70 - 80'\n",
    "WHEN WarehouseToHome BETWEEN 81 AND 90 THEN '80 - 90'\n",
    "WHEN WarehouseToHome BETWEEN 91 AND 100 THEN '90 - 100'\n",
    "ELSE '100 +' END AS distance_category,\n",
    "AVG(OrderCount) AS avg_orders\n",
    "FROM e_commerce\n",
    "GROUP BY distance_category\n",
    "ORDER BY avg_orders DESC\n",
    "\"\"\", conn)\n",
    "\n",
    "orders_by_distance.style.hide_index()"
   ]
  },
  {
   "cell_type": "code",
   "execution_count": 46,
   "id": "8992a7a6",
   "metadata": {},
   "outputs": [
    {
     "data": {
      "text/html": [
       "<style  type=\"text/css\" >\n",
       "</style><table id=\"T_44acf779_5f8e_11ed_8db7_c1c2f45ca2fa\" ><thead>    <tr>        <th class=\"col_heading level0 col0\" >distance_category</th>        <th class=\"col_heading level0 col1\" >avg_hike</th>    </tr></thead><tbody>\n",
       "                <tr>\n",
       "                                <td id=\"T_44acf779_5f8e_11ed_8db7_c1c2f45ca2farow0_col0\" class=\"data row0 col0\" >30 - 40</td>\n",
       "                        <td id=\"T_44acf779_5f8e_11ed_8db7_c1c2f45ca2farow0_col1\" class=\"data row0 col1\" >16.308400</td>\n",
       "            </tr>\n",
       "            <tr>\n",
       "                                <td id=\"T_44acf779_5f8e_11ed_8db7_c1c2f45ca2farow1_col0\" class=\"data row1 col0\" >10 - 20</td>\n",
       "                        <td id=\"T_44acf779_5f8e_11ed_8db7_c1c2f45ca2farow1_col1\" class=\"data row1 col1\" >15.689200</td>\n",
       "            </tr>\n",
       "            <tr>\n",
       "                                <td id=\"T_44acf779_5f8e_11ed_8db7_c1c2f45ca2farow2_col0\" class=\"data row2 col0\" >20 - 30</td>\n",
       "                        <td id=\"T_44acf779_5f8e_11ed_8db7_c1c2f45ca2farow2_col1\" class=\"data row2 col1\" >15.607500</td>\n",
       "            </tr>\n",
       "            <tr>\n",
       "                                <td id=\"T_44acf779_5f8e_11ed_8db7_c1c2f45ca2farow3_col0\" class=\"data row3 col0\" >5 - 10</td>\n",
       "                        <td id=\"T_44acf779_5f8e_11ed_8db7_c1c2f45ca2farow3_col1\" class=\"data row3 col1\" >15.542400</td>\n",
       "            </tr>\n",
       "            <tr>\n",
       "                                <td id=\"T_44acf779_5f8e_11ed_8db7_c1c2f45ca2farow4_col0\" class=\"data row4 col0\" >100 +</td>\n",
       "                        <td id=\"T_44acf779_5f8e_11ed_8db7_c1c2f45ca2farow4_col1\" class=\"data row4 col1\" >15.500000</td>\n",
       "            </tr>\n",
       "    </tbody></table>"
      ],
      "text/plain": [
       "<pandas.io.formats.style.Styler at 0x7bc598>"
      ]
     },
     "execution_count": 46,
     "metadata": {},
     "output_type": "execute_result"
    }
   ],
   "source": [
    "hike_amount_by_distance = pd.read_sql_query(\"\"\"\n",
    "SELECT\n",
    "CASE\n",
    "WHEN WarehouseToHome BETWEEN 0 AND 10 THEN '5 - 10'\n",
    "WHEN WarehouseToHome BETWEEN 11 AND 20 THEN '10 - 20'\n",
    "WHEN WarehouseToHome BETWEEN 21 AND 30 THEN '20 - 30'\n",
    "WHEN WarehouseToHome BETWEEN 31 AND 40 THEN '30 - 40'\n",
    "WHEN WarehouseToHome BETWEEN 41 AND 50 THEN '40 - 50'\n",
    "WHEN WarehouseToHome BETWEEN 51 AND 60 THEN '50 - 60'\n",
    "WHEN WarehouseToHome BETWEEN 61 AND 70 THEN '60 - 70'\n",
    "WHEN WarehouseToHome BETWEEN 71 AND 80 THEN '70 - 80'\n",
    "WHEN WarehouseToHome BETWEEN 81 AND 90 THEN '80 - 90'\n",
    "WHEN WarehouseToHome BETWEEN 91 AND 100 THEN '90 - 100'\n",
    "ELSE '100 +' END AS distance_category,\n",
    "AVG(OrderAmountHikeFromlastYear) AS avg_hike\n",
    "FROM e_commerce\n",
    "GROUP BY distance_category\n",
    "ORDER BY avg_hike DESC\n",
    "\"\"\", conn)\n",
    "\n",
    "hike_amount_by_distance.style.hide_index()"
   ]
  },
  {
   "cell_type": "code",
   "execution_count": 48,
   "id": "b7d1a8db",
   "metadata": {},
   "outputs": [
    {
     "data": {
      "text/html": [
       "<style  type=\"text/css\" >\n",
       "</style><table id=\"T_e86e79e2_5f9d_11ed_ad49_c1c2f45ca2fa\" ><thead>    <tr>        <th class=\"col_heading level0 col0\" >distance_category</th>        <th class=\"col_heading level0 col1\" >complaint_category</th>        <th class=\"col_heading level0 col2\" >count</th>    </tr></thead><tbody>\n",
       "                <tr>\n",
       "                                <td id=\"T_e86e79e2_5f9d_11ed_ad49_c1c2f45ca2farow0_col0\" class=\"data row0 col0\" >5 - 10</td>\n",
       "                        <td id=\"T_e86e79e2_5f9d_11ed_ad49_c1c2f45ca2farow0_col1\" class=\"data row0 col1\" >1</td>\n",
       "                        <td id=\"T_e86e79e2_5f9d_11ed_ad49_c1c2f45ca2farow0_col2\" class=\"data row0 col2\" >414</td>\n",
       "            </tr>\n",
       "            <tr>\n",
       "                                <td id=\"T_e86e79e2_5f9d_11ed_ad49_c1c2f45ca2farow1_col0\" class=\"data row1 col0\" >5 - 10</td>\n",
       "                        <td id=\"T_e86e79e2_5f9d_11ed_ad49_c1c2f45ca2farow1_col1\" class=\"data row1 col1\" >0</td>\n",
       "                        <td id=\"T_e86e79e2_5f9d_11ed_ad49_c1c2f45ca2farow1_col2\" class=\"data row1 col2\" >1144</td>\n",
       "            </tr>\n",
       "            <tr>\n",
       "                                <td id=\"T_e86e79e2_5f9d_11ed_ad49_c1c2f45ca2farow2_col0\" class=\"data row2 col0\" >30 - 40</td>\n",
       "                        <td id=\"T_e86e79e2_5f9d_11ed_ad49_c1c2f45ca2farow2_col1\" class=\"data row2 col1\" >0</td>\n",
       "                        <td id=\"T_e86e79e2_5f9d_11ed_ad49_c1c2f45ca2farow2_col2\" class=\"data row2 col2\" >265</td>\n",
       "            </tr>\n",
       "            <tr>\n",
       "                                <td id=\"T_e86e79e2_5f9d_11ed_ad49_c1c2f45ca2farow3_col0\" class=\"data row3 col0\" >30 - 40</td>\n",
       "                        <td id=\"T_e86e79e2_5f9d_11ed_ad49_c1c2f45ca2farow3_col1\" class=\"data row3 col1\" >1</td>\n",
       "                        <td id=\"T_e86e79e2_5f9d_11ed_ad49_c1c2f45ca2farow3_col2\" class=\"data row3 col2\" >82</td>\n",
       "            </tr>\n",
       "            <tr>\n",
       "                                <td id=\"T_e86e79e2_5f9d_11ed_ad49_c1c2f45ca2farow4_col0\" class=\"data row4 col0\" >20 - 30</td>\n",
       "                        <td id=\"T_e86e79e2_5f9d_11ed_ad49_c1c2f45ca2farow4_col1\" class=\"data row4 col1\" >1</td>\n",
       "                        <td id=\"T_e86e79e2_5f9d_11ed_ad49_c1c2f45ca2farow4_col2\" class=\"data row4 col2\" >230</td>\n",
       "            </tr>\n",
       "            <tr>\n",
       "                                <td id=\"T_e86e79e2_5f9d_11ed_ad49_c1c2f45ca2farow5_col0\" class=\"data row5 col0\" >20 - 30</td>\n",
       "                        <td id=\"T_e86e79e2_5f9d_11ed_ad49_c1c2f45ca2farow5_col1\" class=\"data row5 col1\" >0</td>\n",
       "                        <td id=\"T_e86e79e2_5f9d_11ed_ad49_c1c2f45ca2farow5_col2\" class=\"data row5 col2\" >486</td>\n",
       "            </tr>\n",
       "            <tr>\n",
       "                                <td id=\"T_e86e79e2_5f9d_11ed_ad49_c1c2f45ca2farow6_col0\" class=\"data row6 col0\" >100 +</td>\n",
       "                        <td id=\"T_e86e79e2_5f9d_11ed_ad49_c1c2f45ca2farow6_col1\" class=\"data row6 col1\" >0</td>\n",
       "                        <td id=\"T_e86e79e2_5f9d_11ed_ad49_c1c2f45ca2farow6_col2\" class=\"data row6 col2\" >2</td>\n",
       "            </tr>\n",
       "            <tr>\n",
       "                                <td id=\"T_e86e79e2_5f9d_11ed_ad49_c1c2f45ca2farow7_col0\" class=\"data row7 col0\" >10 - 20</td>\n",
       "                        <td id=\"T_e86e79e2_5f9d_11ed_ad49_c1c2f45ca2farow7_col1\" class=\"data row7 col1\" >0</td>\n",
       "                        <td id=\"T_e86e79e2_5f9d_11ed_ad49_c1c2f45ca2farow7_col2\" class=\"data row7 col2\" >1193</td>\n",
       "            </tr>\n",
       "            <tr>\n",
       "                                <td id=\"T_e86e79e2_5f9d_11ed_ad49_c1c2f45ca2farow8_col0\" class=\"data row8 col0\" >10 - 20</td>\n",
       "                        <td id=\"T_e86e79e2_5f9d_11ed_ad49_c1c2f45ca2farow8_col1\" class=\"data row8 col1\" >1</td>\n",
       "                        <td id=\"T_e86e79e2_5f9d_11ed_ad49_c1c2f45ca2farow8_col2\" class=\"data row8 col2\" >477</td>\n",
       "            </tr>\n",
       "    </tbody></table>"
      ],
      "text/plain": [
       "<pandas.io.formats.style.Styler at 0x7bc790>"
      ]
     },
     "execution_count": 48,
     "metadata": {},
     "output_type": "execute_result"
    }
   ],
   "source": [
    "complaints_by_distance = pd.read_sql_query(\"\"\"\n",
    "SELECT\n",
    "CASE\n",
    "WHEN WarehouseToHome BETWEEN 0 AND 10 THEN '5 - 10'\n",
    "WHEN WarehouseToHome BETWEEN 11 AND 20 THEN '10 - 20'\n",
    "WHEN WarehouseToHome BETWEEN 21 AND 30 THEN '20 - 30'\n",
    "WHEN WarehouseToHome BETWEEN 31 AND 40 THEN '30 - 40'\n",
    "WHEN WarehouseToHome BETWEEN 41 AND 50 THEN '40 - 50'\n",
    "WHEN WarehouseToHome BETWEEN 51 AND 60 THEN '50 - 60'\n",
    "WHEN WarehouseToHome BETWEEN 61 AND 70 THEN '60 - 70'\n",
    "WHEN WarehouseToHome BETWEEN 71 AND 80 THEN '70 - 80'\n",
    "WHEN WarehouseToHome BETWEEN 81 AND 90 THEN '80 - 90'\n",
    "WHEN WarehouseToHome BETWEEN 91 AND 100 THEN '90 - 100'\n",
    "ELSE '100 +' END AS distance_category,\n",
    "Complain AS complaint_category,\n",
    "COUNT(*) AS count\n",
    "FROM e_commerce\n",
    "GROUP BY complaint_category, distance_category\n",
    "ORDER BY distance_category DESC\n",
    "\"\"\", conn)\n",
    "\n",
    "complaints_by_distance.style.hide_index()"
   ]
  },
  {
   "cell_type": "code",
   "execution_count": null,
   "id": "6776bef6",
   "metadata": {},
   "outputs": [],
   "source": []
  }
 ],
 "metadata": {
  "kernelspec": {
   "display_name": "Python 3",
   "language": "python",
   "name": "python3"
  },
  "language_info": {
   "codemirror_mode": {
    "name": "ipython",
    "version": 3
   },
   "file_extension": ".py",
   "mimetype": "text/x-python",
   "name": "python",
   "nbconvert_exporter": "python",
   "pygments_lexer": "ipython3",
   "version": "3.8.3"
  }
 },
 "nbformat": 4,
 "nbformat_minor": 5
}
